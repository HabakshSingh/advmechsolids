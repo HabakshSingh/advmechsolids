{
 "cells": [
  {
   "cell_type": "markdown",
   "metadata": {},
   "source": [
    "The Föppl-von Kármán equations are given by: \n",
    "\\begin{align*}\n",
    "D \\nabla^4 w &= q + \\frac{\\partial^2 F}{\\partial y^2}\\frac{\\partial^2 w}{\\partial x^2} - 2 \\frac{\\partial^2 F}{\\partial x \\partial y} \\frac{\\partial^2 w}{\\partial x \\partial y} + \\frac{\\partial^2 F}{\\partial x^2}\\frac{\\partial^2 w}{\\partial y^2} \\\\\n",
    "\\nabla^4 F &= Eh \\left[ \\left( \\frac{\\partial^2 w}{\\partial x \\partial y}\\right)^2 - \\frac{\\partial^2 w}{\\partial x^2} \\frac{\\partial^2 w}{\\partial y^2} \\right]\n",
    "\\end{align*}\n",
    "\n",
    "Define the \"diamond\" operator as \n",
    "\\begin{gather*}\n",
    "\\diamondsuit (f,g) = \\frac{1}{2} \\left\\{ (\\nabla^2 f) (\\nabla^2 g) + \\nabla^2 \\left(f \\nabla^2 g + g \\nabla^2 f \\right) \\right\\} - \\frac{1}{4} \\left\\{ \\nabla^4(fg) + f \\nabla^4 g + g \\nabla^4 f \\right\\}\n",
    "\\end{gather*}\n",
    "\n",
    "(I learnt about the diamond operator from a 1962 paper: [E. H. Mansfield, \"Bending, buckling and curling of a heated thin plate\", Proc. R. Soc. Lond. A268, 316–327 (1962)](https://doi.org/10.1098/rspa.1962.0143). )"
   ]
  },
  {
   "cell_type": "code",
   "execution_count": 1,
   "metadata": {},
   "outputs": [],
   "source": [
    "import sympy as sp\n",
    "x, y = sp.symbols('x, y')"
   ]
  },
  {
   "cell_type": "code",
   "execution_count": 2,
   "metadata": {},
   "outputs": [],
   "source": [
    "def laplacian(f):\n",
    "    return sp.diff(f,x,2)+sp.diff(f,y,2)\n",
    "\n",
    "def biharmonic(f):\n",
    "    return laplacian(laplacian(f))\n",
    "\n",
    "def diamond(f,g):\n",
    "    term1 = laplacian(f)*laplacian(g) + laplacian(f*laplacian(g)+g*laplacian(f))\n",
    "    term2 = biharmonic(f*g) + f*biharmonic(g) + g*biharmonic(f)\n",
    "    return (sp.Rational(1,2)*term1 - sp.Rational(1,4)*term2).simplify()"
   ]
  },
  {
   "cell_type": "code",
   "execution_count": 3,
   "metadata": {},
   "outputs": [
    {
     "data": {
      "text/latex": [
       "$\\displaystyle \\frac{\\partial^{2}}{\\partial x^{2}} f{\\left(x,y \\right)} + \\frac{\\partial^{2}}{\\partial y^{2}} f{\\left(x,y \\right)}$"
      ],
      "text/plain": [
       "Derivative(f(x, y), (x, 2)) + Derivative(f(x, y), (y, 2))"
      ]
     },
     "execution_count": 3,
     "metadata": {},
     "output_type": "execute_result"
    }
   ],
   "source": [
    "f = sp.Function('f')(x,y)\n",
    "g = sp.Function('g')(x,y)\n",
    "laplacian(f)"
   ]
  },
  {
   "cell_type": "code",
   "execution_count": 4,
   "metadata": {},
   "outputs": [
    {
     "data": {
      "text/latex": [
       "$\\displaystyle \\frac{\\partial^{4}}{\\partial x^{4}} f{\\left(x,y \\right)} + \\frac{\\partial^{4}}{\\partial y^{4}} f{\\left(x,y \\right)} + 2 \\frac{\\partial^{4}}{\\partial y^{2}\\partial x^{2}} f{\\left(x,y \\right)}$"
      ],
      "text/plain": [
       "Derivative(f(x, y), (x, 4)) + Derivative(f(x, y), (y, 4)) + 2*Derivative(f(x, y), (x, 2), (y, 2))"
      ]
     },
     "execution_count": 4,
     "metadata": {},
     "output_type": "execute_result"
    }
   ],
   "source": [
    "biharmonic(f)"
   ]
  },
  {
   "cell_type": "code",
   "execution_count": 5,
   "metadata": {},
   "outputs": [
    {
     "data": {
      "text/latex": [
       "$\\displaystyle 2 \\frac{\\partial^{2}}{\\partial x^{2}} f{\\left(x,y \\right)} \\frac{\\partial^{2}}{\\partial y^{2}} f{\\left(x,y \\right)} - 2 \\left(\\frac{\\partial^{2}}{\\partial y\\partial x} f{\\left(x,y \\right)}\\right)^{2}$"
      ],
      "text/plain": [
       "2*Derivative(f(x, y), (x, 2))*Derivative(f(x, y), (y, 2)) - 2*Derivative(f(x, y), x, y)**2"
      ]
     },
     "execution_count": 5,
     "metadata": {},
     "output_type": "execute_result"
    }
   ],
   "source": [
    "diamond(f,f)"
   ]
  },
  {
   "cell_type": "code",
   "execution_count": 6,
   "metadata": {},
   "outputs": [
    {
     "data": {
      "text/latex": [
       "$\\displaystyle \\frac{\\partial^{2}}{\\partial x^{2}} f{\\left(x,y \\right)} \\frac{\\partial^{2}}{\\partial y^{2}} g{\\left(x,y \\right)} + \\frac{\\partial^{2}}{\\partial y^{2}} f{\\left(x,y \\right)} \\frac{\\partial^{2}}{\\partial x^{2}} g{\\left(x,y \\right)} - 2 \\frac{\\partial^{2}}{\\partial y\\partial x} f{\\left(x,y \\right)} \\frac{\\partial^{2}}{\\partial y\\partial x} g{\\left(x,y \\right)}$"
      ],
      "text/plain": [
       "Derivative(f(x, y), (x, 2))*Derivative(g(x, y), (y, 2)) + Derivative(f(x, y), (y, 2))*Derivative(g(x, y), (x, 2)) - 2*Derivative(f(x, y), x, y)*Derivative(g(x, y), x, y)"
      ]
     },
     "execution_count": 6,
     "metadata": {},
     "output_type": "execute_result"
    }
   ],
   "source": [
    "diamond(f,g)"
   ]
  },
  {
   "cell_type": "markdown",
   "metadata": {},
   "source": [
    "The above two results give us an indication that the RHS of the two Föppl-von Kármán equations can be written in terms of the diamond operator. "
   ]
  },
  {
   "cell_type": "code",
   "execution_count": 7,
   "metadata": {},
   "outputs": [],
   "source": [
    "w = sp.Function('w')(x,y)\n",
    "F = sp.Function('F')(x,y)"
   ]
  },
  {
   "cell_type": "markdown",
   "metadata": {},
   "source": [
    "Consider the expression: $\\displaystyle -\\frac{1}{2} \\diamondsuit(w,w)$"
   ]
  },
  {
   "cell_type": "code",
   "execution_count": 8,
   "metadata": {},
   "outputs": [
    {
     "data": {
      "text/latex": [
       "$\\displaystyle -\\frac{1}{2} \\diamondsuit (w,w) = - \\frac{\\partial^{2}}{\\partial x^{2}} w{\\left(x,y \\right)} \\frac{\\partial^{2}}{\\partial y^{2}} w{\\left(x,y \\right)} + \\left(\\frac{\\partial^{2}}{\\partial y\\partial x} w{\\left(x,y \\right)}\\right)^{2}$"
      ],
      "text/plain": [
       "<IPython.core.display.Math object>"
      ]
     },
     "metadata": {},
     "output_type": "display_data"
    }
   ],
   "source": [
    "from IPython.display import Math\n",
    "\n",
    "display(Math(r'-\\frac{{1}}{{2}} \\diamondsuit (w,w) = {}'.format(sp.latex(-sp.Rational(1,2)*diamond(w,w))))) "
   ]
  },
  {
   "cell_type": "markdown",
   "metadata": {},
   "source": [
    "Next, consider the expression: $\\diamondsuit(F,w)$"
   ]
  },
  {
   "cell_type": "code",
   "execution_count": 9,
   "metadata": {},
   "outputs": [
    {
     "data": {
      "text/latex": [
       "$\\displaystyle \\diamondsuit (F,w) = \\frac{\\partial^{2}}{\\partial x^{2}} F{\\left(x,y \\right)} \\frac{\\partial^{2}}{\\partial y^{2}} w{\\left(x,y \\right)} + \\frac{\\partial^{2}}{\\partial y^{2}} F{\\left(x,y \\right)} \\frac{\\partial^{2}}{\\partial x^{2}} w{\\left(x,y \\right)} - 2 \\frac{\\partial^{2}}{\\partial y\\partial x} F{\\left(x,y \\right)} \\frac{\\partial^{2}}{\\partial y\\partial x} w{\\left(x,y \\right)}$"
      ],
      "text/plain": [
       "<IPython.core.display.Math object>"
      ]
     },
     "metadata": {},
     "output_type": "display_data"
    }
   ],
   "source": [
    "display(Math(r'\\diamondsuit (F,w) = {}'.format(sp.latex(diamond(F,w)))))"
   ]
  },
  {
   "cell_type": "markdown",
   "metadata": {},
   "source": [
    "So, the Föppl-von Kármán equations can be rewritten as:\n",
    "\n",
    "\\begin{align*}\n",
    "D \\nabla^4 w &= q + \\diamondsuit(F,w) \\\\\n",
    "\\nabla^4 F &= -\\frac{1}{2}Eh \\; \\diamondsuit(w,w)\n",
    "\\end{align*}\n",
    "\n",
    "The primary motivation of rewriting the Föppl-von Kármán equations in this form is that it does not depend, representation-wise on any coordinate system. So we can apply this form to the polar coordinate system also whereby to proceed with the analysis we only to substitute the relevant forms for the Laplacians and biharmonics. In fact, this is exactly what we will do to study the buckling of a thin circular plate. "
   ]
  },
  {
   "cell_type": "markdown",
   "metadata": {},
   "source": [
    "## Buckling of a thin circular plate clamped at the periphery and loaded by an in-plane compressive load along the periphery"
   ]
  },
  {
   "cell_type": "markdown",
   "metadata": {},
   "source": [
    "The thickness of the plate is uniform ($h$). The origin of the cylindrical coordinate system is set at the centre of the mid-plane; the thickness varies from $z=-h/2$ to $z=h/2$. Because the analysis will be done throughout by carrying out integrations along the thickness, it effectively means we are using a polar coordinate system.\n",
    "\n",
    "The radius of the circle is $R$. The magnitude of the compressive load is $P$ per unit length of the circumference (so that the unit for P is N/m). The problem is axisymmetric.\n",
    "\n",
    "We first import the various definitions in the `polarUtilities.py` file we had created in our previous course on Applied Elasticity (ME60401) (Here is the GitHub repository [link](https://github.com/jeevanjyoti4/elasticity))"
   ]
  },
  {
   "cell_type": "code",
   "execution_count": 10,
   "metadata": {},
   "outputs": [],
   "source": [
    "from polarUtilities import *"
   ]
  },
  {
   "cell_type": "markdown",
   "metadata": {},
   "source": [
    "The $r$ and $\\theta$ symbols are already defined in `polarUtilies.py`, and so we do not have to be define them separately here. \n",
    "\n",
    "We set the symbol $D$ for the bending rigidity ($\\displaystyle \\frac{E h^3}{12(1-\\nu^2)}$), where $E$ is the Young's modulus and $\\nu$ is the Poisson's ratio. \n",
    "\n",
    "The deflection of the plate in the $z$-direction is represented by $\\zeta(r)$, where the dependence is solely on $r$ due to axisymmetry. \n",
    "\n",
    "Just like $F$ represented the (integrated) stress function in the rectangular Cartesian coordinate system, we will use $\\varphi(r)$ to represent the (integrated) stress function in the polar coordinate system. Again note that $\\varphi(r)$ is dependent solely on $r$ due to axisymmetry. "
   ]
  },
  {
   "cell_type": "code",
   "execution_count": 11,
   "metadata": {},
   "outputs": [],
   "source": [
    "D = sp.symbols('D')\n",
    "zeta = sp.Function('zeta')(r)\n",
    "varphi = sp.Function('varphi')(r)"
   ]
  },
  {
   "cell_type": "markdown",
   "metadata": {},
   "source": [
    "We next define the diamond operator for the polar coordinate system using the Laplacian and biharmonic operator definitions present in the `polarUtilities.py` file that we have already imported."
   ]
  },
  {
   "cell_type": "code",
   "execution_count": 12,
   "metadata": {},
   "outputs": [],
   "source": [
    "def polardiamond(f,g):\n",
    "    term1 = polarLaplacian(f)*polarLaplacian(g) + polarLaplacian(f*polarLaplacian(g)+g*polarLaplacian(f))\n",
    "    term2 = polarbiharmonic(f*g) + f*polarbiharmonic(g) + g*polarbiharmonic(f)\n",
    "    return (sp.Rational(1,2)*term1 - sp.Rational(1,4)*term2).simplify()"
   ]
  },
  {
   "cell_type": "code",
   "execution_count": 13,
   "metadata": {},
   "outputs": [
    {
     "data": {
      "text/latex": [
       "$\\displaystyle \\frac{\\frac{d}{d r} \\varphi{\\left(r \\right)} \\frac{d^{2}}{d r^{2}} \\zeta{\\left(r \\right)} + \\frac{d^{2}}{d r^{2}} \\varphi{\\left(r \\right)} \\frac{d}{d r} \\zeta{\\left(r \\right)}}{r}$"
      ],
      "text/plain": [
       "(Derivative(varphi(r), r)*Derivative(zeta(r), (r, 2)) + Derivative(varphi(r), (r, 2))*Derivative(zeta(r), r))/r"
      ]
     },
     "execution_count": 13,
     "metadata": {},
     "output_type": "execute_result"
    }
   ],
   "source": [
    "polardiamond(varphi,zeta)"
   ]
  },
  {
   "cell_type": "code",
   "execution_count": 14,
   "metadata": {},
   "outputs": [
    {
     "data": {
      "text/latex": [
       "$\\displaystyle \\frac{2 \\frac{d}{d r} \\zeta{\\left(r \\right)} \\frac{d^{2}}{d r^{2}} \\zeta{\\left(r \\right)}}{r}$"
      ],
      "text/plain": [
       "2*Derivative(zeta(r), r)*Derivative(zeta(r), (r, 2))/r"
      ]
     },
     "execution_count": 14,
     "metadata": {},
     "output_type": "execute_result"
    }
   ],
   "source": [
    "polardiamond(zeta,zeta)"
   ]
  },
  {
   "cell_type": "markdown",
   "metadata": {},
   "source": [
    "Therefore, the two Föppl-von Kármán equations in polar coordinate system under axisymmetric conditions become:"
   ]
  },
  {
   "cell_type": "code",
   "execution_count": 15,
   "metadata": {},
   "outputs": [
    {
     "data": {
      "text/latex": [
       "$\\displaystyle D \\left(\\frac{d^{4}}{d r^{4}} \\zeta{\\left(r \\right)} + \\frac{2 \\frac{d^{3}}{d r^{3}} \\zeta{\\left(r \\right)}}{r} - \\frac{\\frac{d^{2}}{d r^{2}} \\zeta{\\left(r \\right)}}{r^{2}} + \\frac{\\frac{d}{d r} \\zeta{\\left(r \\right)}}{r^{3}}\\right) = q + \\frac{\\frac{d}{d r} \\varphi{\\left(r \\right)} \\frac{d^{2}}{d r^{2}} \\zeta{\\left(r \\right)} + \\frac{d^{2}}{d r^{2}} \\varphi{\\left(r \\right)} \\frac{d}{d r} \\zeta{\\left(r \\right)}}{r}$"
      ],
      "text/plain": [
       "<IPython.core.display.Math object>"
      ]
     },
     "metadata": {},
     "output_type": "display_data"
    },
    {
     "data": {
      "text/latex": [
       "$\\displaystyle \\frac{d^{4}}{d r^{4}} \\varphi{\\left(r \\right)} + \\frac{2 \\frac{d^{3}}{d r^{3}} \\varphi{\\left(r \\right)}}{r} - \\frac{\\frac{d^{2}}{d r^{2}} \\varphi{\\left(r \\right)}}{r^{2}} + \\frac{\\frac{d}{d r} \\varphi{\\left(r \\right)}}{r^{3}} = -\\frac{1}{2}Eh \\frac{2 \\frac{d}{d r} \\zeta{\\left(r \\right)} \\frac{d^{2}}{d r^{2}} \\zeta{\\left(r \\right)}}{r}$"
      ],
      "text/plain": [
       "<IPython.core.display.Math object>"
      ]
     },
     "metadata": {},
     "output_type": "display_data"
    }
   ],
   "source": [
    "display(Math(r'{} = q + {}'.format(sp.latex(D*polarbiharmonic(zeta)),sp.latex(polardiamond(varphi,zeta)))))\n",
    "\n",
    "display(Math(r'{} = -\\frac{{1}}{{2}}Eh {}'.format(sp.latex(polarbiharmonic(varphi)),sp.latex(polardiamond(zeta,zeta)))))"
   ]
  },
  {
   "cell_type": "markdown",
   "metadata": {},
   "source": [
    "It will be easier to proceed from here if we define $\\displaystyle \\Psi(r):= \\frac{{\\rm d}\\varphi}{{\\rm d}r}$"
   ]
  },
  {
   "cell_type": "code",
   "execution_count": 55,
   "metadata": {},
   "outputs": [
    {
     "data": {
      "text/latex": [
       "$\\displaystyle \\Psi{\\left(r \\right)} := \\frac{d}{d r} \\varphi{\\left(r \\right)}$"
      ],
      "text/plain": [
       "<IPython.core.display.Math object>"
      ]
     },
     "metadata": {},
     "output_type": "display_data"
    }
   ],
   "source": [
    "Psi = sp.Function('Psi')(r)\n",
    "display(Math(r'{} := {}'.format(sp.latex(Psi),sp.latex(sp.diff(varphi,r)))))"
   ]
  },
  {
   "cell_type": "markdown",
   "metadata": {},
   "source": [
    "To proceed with the solution of the two equations, we first take up the second, and note that in the situation just before buckling starts, $\\zeta = 0$. Then, the second of the Foppl-von Karman equations becomes"
   ]
  },
  {
   "cell_type": "code",
   "execution_count": 56,
   "metadata": {},
   "outputs": [
    {
     "data": {
      "text/latex": [
       "$\\displaystyle \\frac{d^{3}}{d r^{3}} \\Psi{\\left(r \\right)} + \\frac{2 \\frac{d^{2}}{d r^{2}} \\Psi{\\left(r \\right)}}{r} - \\frac{\\frac{d}{d r} \\Psi{\\left(r \\right)}}{r^{2}} + \\frac{\\Psi{\\left(r \\right)}}{r^{3}} = 0$"
      ],
      "text/plain": [
       "Eq(Derivative(Psi(r), (r, 3)) + 2*Derivative(Psi(r), (r, 2))/r - Derivative(Psi(r), r)/r**2 + Psi(r)/r**3, 0)"
      ]
     },
     "metadata": {},
     "output_type": "display_data"
    }
   ],
   "source": [
    "lhs = polarLaplacian(sp.diff(Psi,r)+Psi/r)\n",
    "eqn = sp.Eq(lhs,0)\n",
    "display(eqn)"
   ]
  },
  {
   "cell_type": "code",
   "execution_count": 57,
   "metadata": {},
   "outputs": [
    {
     "data": {
      "text/latex": [
       "$\\displaystyle \\Psi{\\left(r \\right)} = \\frac{C_{1}}{r} + C_{2} r + C_{3} r \\log{\\left(r \\right)}$"
      ],
      "text/plain": [
       "Eq(Psi(r), C1/r + C2*r + C3*r*log(r))"
      ]
     },
     "execution_count": 57,
     "metadata": {},
     "output_type": "execute_result"
    }
   ],
   "source": [
    "sp.dsolve(eqn)"
   ]
  },
  {
   "cell_type": "markdown",
   "metadata": {},
   "source": [
    "Now, it is important to note that since $\\displaystyle \\int_{-h/2}^{h/2}\\sigma_{rr}\\; {\\rm d}z := \\frac{1}{r}\\frac{{\\rm d} \\varphi}{{\\rm d} r}$ and $\\displaystyle \\int_{-h/2}^{h/2}\\sigma_{\\theta \\theta}\\; {\\rm d}z := \\frac{{\\rm d^2} \\varphi}{{\\rm d} r^2}$, therefore we have $\\displaystyle \\int_{-h/2}^{h/2}\\sigma_{rr}\\; {\\rm d}z := \\frac{\\Psi}{r}$ and $\\displaystyle \\int_{-h/2}^{h/2}\\sigma_{\\theta \\theta}\\; {\\rm d}z := \\frac{ {\\rm d} \\Psi}{{\\rm d} r}$.\n",
    "\n",
    "So, in order to have finite values of $\\displaystyle \\int_{-h/2}^{h/2}\\sigma_{rr}\\; {\\rm d} z$, it is necessary that in the expression for $\\Psi$, $C_1 = C_2 = 0$. Therefore, the expression for $\\Psi$ becomes:"
   ]
  },
  {
   "cell_type": "code",
   "execution_count": 59,
   "metadata": {},
   "outputs": [
    {
     "data": {
      "text/latex": [
       "$\\displaystyle \\Psi(r) = C_{2} r$"
      ],
      "text/plain": [
       "<IPython.core.display.Math object>"
      ]
     },
     "metadata": {},
     "output_type": "display_data"
    }
   ],
   "source": [
    "C2 = sp.symbols('C_2')\n",
    "Psi = C2*r\n",
    "display(Math(r'\\Psi(r) = {}'.format(sp.latex(Psi))))"
   ]
  },
  {
   "cell_type": "markdown",
   "metadata": {},
   "source": [
    "To determine $C_2$, we use the boundary condition that at $r=R$, $\\displaystyle \\int_{-h/2}^{h/2}\\sigma_{rr}\\; {\\rm d}z = -P$, where $P$ is the magnitude of the compressive force per unit length of the circular periphery. From this condition, we obtain"
   ]
  },
  {
   "cell_type": "code",
   "execution_count": 68,
   "metadata": {},
   "outputs": [
    {
     "data": {
      "text/latex": [
       "$\\displaystyle C_2 = - P$"
      ],
      "text/plain": [
       "<IPython.core.display.Math object>"
      ]
     },
     "metadata": {},
     "output_type": "display_data"
    },
    {
     "data": {
      "text/latex": [
       "$\\displaystyle \\Psi(r) = - P r$"
      ],
      "text/plain": [
       "<IPython.core.display.Math object>"
      ]
     },
     "metadata": {},
     "output_type": "display_data"
    }
   ],
   "source": [
    "P = sp.symbols('P',positive=True)\n",
    "C2 = -P\n",
    "Psi = C2*r\n",
    "display(Math(r'C_2 = {}'.format(sp.latex(C2))))\n",
    "display(Math(r'\\Psi(r) = {}'.format(sp.latex(Psi))))"
   ]
  },
  {
   "cell_type": "markdown",
   "metadata": {},
   "source": [
    "Next, we go to the first of the Föppl-von Kármán equations, set $q=0$, use $\\displaystyle \\frac{{\\rm d} \\varphi}{{\\rm d}r} = \\Psi(r)$, and use the expression of $\\Psi(r) = -Pr$ to obtain:"
   ]
  },
  {
   "cell_type": "code",
   "execution_count": 73,
   "metadata": {},
   "outputs": [
    {
     "data": {
      "text/latex": [
       "$\\displaystyle D \\left(\\frac{d^{4}}{d r^{4}} \\zeta{\\left(r \\right)} + \\frac{2 \\frac{d^{3}}{d r^{3}} \\zeta{\\left(r \\right)}}{r} - \\frac{\\frac{d^{2}}{d r^{2}} \\zeta{\\left(r \\right)}}{r^{2}} + \\frac{\\frac{d}{d r} \\zeta{\\left(r \\right)}}{r^{3}}\\right) = \\frac{- P r \\frac{d^{2}}{d r^{2}} \\zeta{\\left(r \\right)} - P \\frac{d}{d r} \\zeta{\\left(r \\right)}}{r}$"
      ],
      "text/plain": [
       "<IPython.core.display.Math object>"
      ]
     },
     "metadata": {},
     "output_type": "display_data"
    }
   ],
   "source": [
    "rhs_FvK1 = 1/r*(Psi*sp.diff(zeta,r,2)+ sp.diff(Psi,r)*sp.diff(zeta,r))\n",
    "display(Math(r'{} = {}'.format(sp.latex(D*polarbiharmonic(zeta)),sp.latex(rhs_FvK1))))"
   ]
  },
  {
   "cell_type": "markdown",
   "metadata": {},
   "source": [
    "We set $\\displaystyle \\frac{P}{D} =: K^2$, and rewrite the equation as:"
   ]
  },
  {
   "cell_type": "markdown",
   "metadata": {},
   "source": [
    "$\\displaystyle \\frac{1}{r} \\frac{{\\rm d}}{{\\rm d} r} \\left[ r \\frac{{\\rm d}}{{\\rm d} r} \\left\\{ \\frac{1}{r} \\frac{{\\rm d}}{{\\rm d} r} \\left( r \\frac{{\\rm d}\\zeta}{{\\rm d}r} \\right) \\right\\} \\right] = -K^2 \\frac{1}{r} \\frac{{\\rm d}}{{\\rm d}r} \\left( r \\frac{{\\rm d \\zeta}}{{\\rm d}r} \\right) $\n",
    "\n",
    "We cancel the $\\displaystyle \\frac{1}{r}$ from both sides, integrate once, and divide by $r$ to obtain:\n",
    "\n",
    "$\\displaystyle \\frac{{\\rm d}}{{\\rm d} r} \\left\\{ \\frac{1}{r} \\frac{{\\rm d}}{{\\rm d} r} \\left( r \\frac{{\\rm d}\\zeta}{{\\rm d}r} \\right) \\right\\} = -K^2 \\frac{{\\rm d}\\zeta}{{\\rm d}r} + \\frac{A_1}{r}$\n",
    "\n",
    "\n",
    "We next define $\\displaystyle W := \\frac{{\\rm d}\\zeta}{{\\rm d}r}$, which we note is nothing but the slope of the plate as it deforms in the transverse direction. In terms of $W$, the equation becomes\n",
    "\n",
    "$\\displaystyle \\frac{{\\rm d}}{{\\rm d} r} \\left\\{ \\frac{1}{r} \\frac{{\\rm d}}{{\\rm d} r} \\left( r W \\right) \\right\\} = -K^2 W + \\frac{A_1}{r}$\n",
    "\n",
    "We immediately note that it in order to ensure that the solution for the slope comes out finite everywhere, it is necessary that $A_1 = 0$. We use this condition, and rewrite the above equation as\n",
    "\n",
    "$\\displaystyle \\frac{{\\rm d^2} W}{{\\rm d}r^2} + \\frac{1}{r} \\frac{{\\rm d} W}{{\\rm d}r} - \\frac{W}{r^2} = - K^2 W$ \n",
    "\n",
    "or, $\\displaystyle r^2\\frac{{\\rm d^2} W}{{\\rm d}r^2} + r\\frac{{\\rm d} W}{{\\rm d}r} + (K^2r^2 - 1)W = 0$\n",
    "\n",
    "We solve this equation:"
   ]
  },
  {
   "cell_type": "code",
   "execution_count": 75,
   "metadata": {},
   "outputs": [
    {
     "data": {
      "text/latex": [
       "$\\displaystyle W{\\left(r \\right)} = C_{1} J_{1}\\left(K r\\right) + C_{2} Y_{1}\\left(K r\\right)$"
      ],
      "text/plain": [
       "Eq(W(r), C1*besselj(1, K*r) + C2*bessely(1, K*r))"
      ]
     },
     "execution_count": 75,
     "metadata": {},
     "output_type": "execute_result"
    }
   ],
   "source": [
    "W = sp.Function('W')(r)\n",
    "\n",
    "sp.dsolve(r**2*sp.diff(W,r,2)+r*sp.diff(W,r)+(K**2*r**2-1)*W)"
   ]
  },
  {
   "cell_type": "markdown",
   "metadata": {},
   "source": [
    "From this point onwards, we can proceed exactly as in page 390 (Section 9.9) of Theory of Elastic Stability, 2nd edition by Timoshenko and Gere. "
   ]
  }
 ],
 "metadata": {
  "hide_input": false,
  "kernelspec": {
   "display_name": "Python 3",
   "language": "python",
   "name": "python3"
  },
  "language_info": {
   "codemirror_mode": {
    "name": "ipython",
    "version": 3
   },
   "file_extension": ".py",
   "mimetype": "text/x-python",
   "name": "python",
   "nbconvert_exporter": "python",
   "pygments_lexer": "ipython3",
   "version": "3.7.6"
  },
  "varInspector": {
   "cols": {
    "lenName": 16,
    "lenType": 16,
    "lenVar": 40
   },
   "kernels_config": {
    "python": {
     "delete_cmd_postfix": "",
     "delete_cmd_prefix": "del ",
     "library": "var_list.py",
     "varRefreshCmd": "print(var_dic_list())"
    },
    "r": {
     "delete_cmd_postfix": ") ",
     "delete_cmd_prefix": "rm(",
     "library": "var_list.r",
     "varRefreshCmd": "cat(var_dic_list()) "
    }
   },
   "types_to_exclude": [
    "module",
    "function",
    "builtin_function_or_method",
    "instance",
    "_Feature"
   ],
   "window_display": false
  }
 },
 "nbformat": 4,
 "nbformat_minor": 4
}
