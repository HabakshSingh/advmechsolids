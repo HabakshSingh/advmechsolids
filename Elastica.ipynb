{
 "cells": [
  {
   "cell_type": "markdown",
   "metadata": {},
   "source": [
    "# Elastica\n",
    "\n",
    "We first find the value of $K$ in the following equation:\n",
    "\\begin{gather}\n",
    "\\frac{P}{P_{\\rm Euler}} = \\frac{2}{\\pi} \\int_0^{\\pi/2} \\frac{{\\rm d} \\varphi}{\\sqrt{1-K^2 \\sin^2 \\varphi}}\n",
    "\\end{gather}\n",
    "\n",
    "To evaluate the complete elliptic integral of the first kind, we use the built-in `ellipk` function within `scipy.special`. "
   ]
  },
  {
   "cell_type": "code",
   "execution_count": 1,
   "metadata": {},
   "outputs": [],
   "source": [
    "import numpy as np\n",
    "from scipy.optimize import root\n",
    "from scipy.special import ellipk"
   ]
  },
  {
   "cell_type": "code",
   "execution_count": 2,
   "metadata": {},
   "outputs": [],
   "source": [
    "P_by_PE = 1.1\n",
    "def myfun_elastica(K):\n",
    "    return P_by_PE - 2/np.pi*ellipk(K)"
   ]
  },
  {
   "cell_type": "code",
   "execution_count": 3,
   "metadata": {},
   "outputs": [
    {
     "data": {
      "text/plain": [
       "0"
      ]
     },
     "execution_count": 3,
     "metadata": {},
     "output_type": "execute_result"
    },
    {
     "data": {
      "image/png": "[encoded data removed]",
      "text/plain": [
       "<Figure size 432x266.667 with 1 Axes>"
      ]
     },
     "metadata": {
      "needs_background": "light"
     },
     "output_type": "display_data"
    }
   ],
   "source": [
    "%matplotlib inline\n",
    "\n",
    "import matplotlib\n",
    "\n",
    "matplotlib.rcParams.update({'font.size': 18,'text.usetex':True}) #'font.family': 'serif'})\n",
    "\n",
    "count = 0\n",
    "N = 100\n",
    "res = np.zeros(N)\n",
    "\n",
    "\n",
    "#Kvalues = np.zeros(N)\n",
    "#for Ktrial in np.arange(0,1,1/N):\n",
    "#    res[count] = myfun_elastica(Ktrial)\n",
    "#    Kvalues[count] = Ktrial\n",
    "#    count = count + 1\n",
    "\n",
    "K_values = np.arange(0,1,1/N)\n",
    "for idx, Ktrial in enumerate(K_values):\n",
    "    res[idx] = myfun_elastica(Ktrial)\n",
    "\n",
    "\n",
    "import matplotlib.pyplot as plt\n",
    "\n",
    "\n",
    "#fig, ax = plt.subplots(figsize=(1.97,1.97/1.62), nrows=1, ncols=1)\n",
    "\n",
    "fig, ax = plt.subplots(figsize=(6,6/1.62), nrows=1, ncols=1)\n",
    "ax.plot(K_values,res)\n",
    "ax.plot(K_values,np.zeros(N))\n",
    "ax.grid(False)\n",
    "ax.set_xlabel(r'$K$')\n",
    "ax.set_ylabel(r'$Y$')\n",
    "ax.margins(0.05)\n",
    "fig.savefig(\"elastica4.pdf\",bbox_inches=\"tight\", pad_inches= 0.05, dpi=600)\n",
    "\n",
    "import os \n",
    "os.system('start elastica4.pdf')"
   ]
  },
  {
   "cell_type": "markdown",
   "metadata": {},
   "source": [
    "The above plot shows approximately where the RHS of Eq. (1) intersects the value of $\\displaystyle \\frac{P}{P_{\\rm Euler}}$. We find the refined solution through the root finding capability of SciPy as follows: "
   ]
  },
  {
   "cell_type": "code",
   "execution_count": 4,
   "metadata": {},
   "outputs": [
    {
     "data": {
      "text/plain": [
       "0.3234678688991268"
      ]
     },
     "metadata": {},
     "output_type": "display_data"
    }
   ],
   "source": [
    "soln = root(myfun_elastica,0.95)\n",
    "K = soln.x[0]\n",
    "display(K)"
   ]
  },
  {
   "cell_type": "markdown",
   "metadata": {},
   "source": [
    "Finally, we obtain the deflection values using\n",
    "\\begin{gather}\n",
    "w = \\frac{2}{\\pi}\\sqrt{\\frac{P_{\\rm Euler}}{P}(K^2 - \\sin^2 \\frac{\\theta}{2})} \\tag{2} \\\\\n",
    "\\text{or,} \\quad w = \\frac{2}{\\pi}\\sqrt{\\frac{P_{\\rm Euler}}{P}(K^2 - K^2 \\sin^2 \\varphi)}, \\tag{3}\n",
    "\\end{gather}\n",
    "where we use $\\displaystyle \\sin \\frac{\\theta}{2} = K \\sin \\varphi$.\n",
    "\n",
    "We note that $\\theta = \\pm \\alpha \\implies \\varphi = \\pm\\pi/2$ and $\\theta = 0 \\implies \\varphi = 0$. So when $\\theta$ goes from $-\\alpha$ to $\\alpha$ through $0$, $\\varphi$ goes from $\\displaystyle -\\frac{\\pi}{2}$ to $\\displaystyle \\frac{\\pi}{2}$ through 0. "
   ]
  },
  {
   "cell_type": "code",
   "execution_count": 10,
   "metadata": {},
   "outputs": [
    {
     "data": {
      "text/plain": [
       "Text(0, 0.5, '$w$')"
      ]
     },
     "execution_count": 10,
     "metadata": {},
     "output_type": "execute_result"
    },
    {
     "data": {
      "image/png": "[encoded data removed]",
      "text/plain": [
       "<Figure size 432x266.667 with 1 Axes>"
      ]
     },
     "metadata": {
      "needs_background": "light"
     },
     "output_type": "display_data"
    }
   ],
   "source": [
    "%matplotlib inline \n",
    "matplotlib.rcParams.update({'font.size': 18,'text.usetex':True})\n",
    "\n",
    "\n",
    "n = 200\n",
    "w_values = np.zeros(n)\n",
    "phi_values = np.arange(-np.pi/2,np.pi/2,np.pi/n)\n",
    "\n",
    "for idx, phi_trial in enumerate(phi_values):\n",
    "    w_values[idx] = 2/np.pi*np.sqrt(1/P_by_PE*( K**2 - K**2*(np.sin(phi_trial))**2) )\n",
    "\n",
    "fig, ax = plt.subplots(figsize=(6,6/1.62),nrows=1, ncols=1)    \n",
    "    \n",
    "ax.plot(phi_values,w_values)\n",
    "ax.set_xlabel(r'$\\theta$')\n",
    "ax.set_ylabel(r'$w$')"
   ]
  },
  {
   "cell_type": "code",
   "execution_count": 37,
   "metadata": {},
   "outputs": [
    {
     "data": {
      "text/plain": [
       "1.968503937007874"
      ]
     },
     "execution_count": 37,
     "metadata": {},
     "output_type": "execute_result"
    }
   ],
   "source": [
    "5/2.54"
   ]
  },
  {
   "cell_type": "code",
   "execution_count": null,
   "metadata": {},
   "outputs": [],
   "source": []
  }
 ],
 "metadata": {
  "hide_input": false,
  "kernelspec": {
   "display_name": "Python 3",
   "language": "python",
   "name": "python3"
  },
  "language_info": {
   "codemirror_mode": {
    "name": "ipython",
    "version": 3
   },
   "file_extension": ".py",
   "mimetype": "text/x-python",
   "name": "python",
   "nbconvert_exporter": "python",
   "pygments_lexer": "ipython3",
   "version": "3.7.6"
  },
  "varInspector": {
   "cols": {
    "lenName": 16,
    "lenType": 16,
    "lenVar": 40
   },
   "kernels_config": {
    "python": {
     "delete_cmd_postfix": "",
     "delete_cmd_prefix": "del ",
     "library": "var_list.py",
     "varRefreshCmd": "print(var_dic_list())"
    },
    "r": {
     "delete_cmd_postfix": ") ",
     "delete_cmd_prefix": "rm(",
     "library": "var_list.r",
     "varRefreshCmd": "cat(var_dic_list()) "
    }
   },
   "types_to_exclude": [
    "module",
    "function",
    "builtin_function_or_method",
    "instance",
    "_Feature"
   ],
   "window_display": false
  }
 },
 "nbformat": 4,
 "nbformat_minor": 2
}
