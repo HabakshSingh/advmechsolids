{
 "cells": [
  {
   "cell_type": "markdown",
   "id": "71b68644",
   "metadata": {},
   "source": [
    "# Simply-supported beam \n",
    "\n",
    "Consider the problem of a simply-supported beam of length $L$ subjected to a point load $P$ acting at a distance $a$ from one of the ends. Determine the deflection at the point of loading. "
   ]
  },
  {
   "cell_type": "code",
   "execution_count": 1,
   "id": "328fd605",
   "metadata": {},
   "outputs": [],
   "source": [
    "import sympy as sym"
   ]
  },
  {
   "cell_type": "code",
   "execution_count": 2,
   "id": "0eb2af0a",
   "metadata": {},
   "outputs": [],
   "source": [
    "x = sym.symbols('x')\n",
    "a, L, P = sym.symbols('a, L, P', positive=True)"
   ]
  },
  {
   "cell_type": "code",
   "execution_count": 3,
   "id": "1f501f3f",
   "metadata": {},
   "outputs": [],
   "source": [
    "from sympy import SingularityFunction as SF\n",
    "from sympy import Piecewise"
   ]
  },
  {
   "cell_type": "markdown",
   "id": "6b58ea0e",
   "metadata": {},
   "source": [
    "The following is the expression for the moment at a distance $x$ from the end from which the distance $a$ is measured. "
   ]
  },
  {
   "cell_type": "code",
   "execution_count": 4,
   "id": "3296750d",
   "metadata": {},
   "outputs": [
    {
     "data": {
      "text/latex": [
       "$\\displaystyle \\frac{P x}{2} - P {\\left\\langle - a + x \\right\\rangle}^{1}$"
      ],
      "text/plain": [
       "P*x/2 - P*SingularityFunction(x, a, 1)"
      ]
     },
     "execution_count": 4,
     "metadata": {},
     "output_type": "execute_result"
    }
   ],
   "source": [
    "M = P/2*x - P*SF(x,a,1)\n",
    "M"
   ]
  },
  {
   "cell_type": "code",
   "execution_count": 5,
   "id": "3bb2cd28",
   "metadata": {},
   "outputs": [
    {
     "data": {
      "text/latex": [
       "$\\displaystyle \\begin{cases} \\frac{P \\left(2 a - x\\right)^{2}}{4} & \\text{for}\\: a < x \\\\\\frac{P x^{2}}{4} & \\text{otherwise} \\end{cases}$"
      ],
      "text/plain": [
       "Piecewise((P*(2*a - x)**2/4, a < x), (P*x**2/4, True))"
      ]
     },
     "execution_count": 5,
     "metadata": {},
     "output_type": "execute_result"
    }
   ],
   "source": [
    "expr = M*sym.diff(M,P)\n",
    "integrand = expr.rewrite(Piecewise).simplify()\n",
    "integrand"
   ]
  },
  {
   "cell_type": "code",
   "execution_count": 6,
   "id": "a1f2634c",
   "metadata": {},
   "outputs": [
    {
     "data": {
      "text/latex": [
       "$\\displaystyle \\frac{L^{3} P}{12} - \\frac{L^{2} P a}{2} + L P a^{2} - P a^{2} \\min\\left(L, a\\right) + \\frac{P a \\min\\left(L, a\\right)^{2}}{2}$"
      ],
      "text/plain": [
       "L**3*P/12 - L**2*P*a/2 + L*P*a**2 - P*a**2*Min(L, a) + P*a*Min(L, a)**2/2"
      ]
     },
     "execution_count": 6,
     "metadata": {},
     "output_type": "execute_result"
    }
   ],
   "source": [
    "ans = sym.integrate(integrand,(x,0,L))\n",
    "ans"
   ]
  },
  {
   "cell_type": "markdown",
   "id": "3b480a8e",
   "metadata": {},
   "source": [
    "Note that as of now (Jan, 2022), I am not aware of any way of making SymPy work under the assumption that $a < L$. That is why in the above expression, the `min(L,a)` remains unresolved. However, we can replace `min(L,a)` by `a` to obtain the final answer. "
   ]
  },
  {
   "cell_type": "code",
   "execution_count": 7,
   "id": "ec2ede08",
   "metadata": {},
   "outputs": [
    {
     "data": {
      "text/latex": [
       "$\\displaystyle \\frac{L^{3} P}{12} - \\frac{L^{2} P a}{2} + L P a^{2} - \\frac{P a^{3}}{2}$"
      ],
      "text/plain": [
       "L**3*P/12 - L**2*P*a/2 + L*P*a**2 - P*a**3/2"
      ]
     },
     "execution_count": 7,
     "metadata": {},
     "output_type": "execute_result"
    }
   ],
   "source": [
    "final_ans = ans.replace(sym.Min(L,a),a)\n",
    "final_ans"
   ]
  },
  {
   "cell_type": "markdown",
   "id": "79b3ad3a",
   "metadata": {},
   "source": [
    "As a check, we can substitute $a = L/2$ in the above answer to obtain the familiar result of the maximum deflection undergone by simply-supported beam that is subjected to a point load at its mid-span:"
   ]
  },
  {
   "cell_type": "code",
   "execution_count": 8,
   "id": "c32001e7",
   "metadata": {},
   "outputs": [
    {
     "data": {
      "text/latex": [
       "$\\displaystyle \\frac{L^{3} P}{48}$"
      ],
      "text/plain": [
       "L**3*P/48"
      ]
     },
     "execution_count": 8,
     "metadata": {},
     "output_type": "execute_result"
    }
   ],
   "source": [
    "final_ans.subs([(a,L/2)])"
   ]
  }
 ],
 "metadata": {
  "kernelspec": {
   "display_name": "Python 3",
   "language": "python",
   "name": "python3"
  },
  "language_info": {
   "codemirror_mode": {
    "name": "ipython",
    "version": 3
   },
   "file_extension": ".py",
   "mimetype": "text/x-python",
   "name": "python",
   "nbconvert_exporter": "python",
   "pygments_lexer": "ipython3",
   "version": "3.8.8"
  }
 },
 "nbformat": 4,
 "nbformat_minor": 5
}
