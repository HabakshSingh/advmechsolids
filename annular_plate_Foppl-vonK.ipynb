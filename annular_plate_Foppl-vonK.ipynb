{
 "cells": [
  {
   "cell_type": "markdown",
   "metadata": {},
   "source": [
    "## Buckling of a thin annular plate clamped at the periphery and loaded by an in-plane compressive load along the periphery\n",
    "\n",
    "The thickness of the plate is uniform ($h$). The origin of the cylindrical coordinate system is set at the centre of the mid-plane; the thickness varies from $z=-h/2$ to $z=h/2$. Because the analysis will be done throughout by carrying out integrations along the thickness, it effectively means we are using a polar coordinate system.\n",
    "\n",
    "The inner radius is $b$ and the outer radius is $a$. The magnitude of the compressive load is $P$ per unit length of the circumference (so that the unit for P is N/m). The problem is axisymmetric."
   ]
  },
  {
   "cell_type": "markdown",
   "metadata": {},
   "source": [
    "Just like in the case of the circular plate we begin with the Foppl-von Karman equations in the form:\n",
    "\\begin{align*}\n",
    "D \\nabla^4 w &= q + \\diamondsuit(F,w) \\\\\n",
    "\\nabla^4 F &= -\\frac{1}{2}Eh \\; \\diamondsuit(w,w)\n",
    "\\end{align*}\n",
    "where the $\\diamondsuit$ operator is given by:\n",
    "\\begin{gather*}\n",
    "\\diamondsuit (f,g) = \\frac{1}{2} \\left\\{ (\\nabla^2 f) (\\nabla^2 g) + \\nabla^2 \\left(f \\nabla^2 g + g \\nabla^2 f \\right) \\right\\} - \\frac{1}{4} \\left\\{ \\nabla^4(fg) + f \\nabla^4 g + g \\nabla^4 f \\right\\}\n",
    "\\end{gather*}\n",
    "\n",
    "For the axisymmetric situation under consideration and with a cylindrical coordinate system, we have dependence only on the $r$ coordinate variable. \n",
    "\n",
    "We first import the `polarUtilities.py` module:"
   ]
  },
  {
   "cell_type": "code",
   "execution_count": 1,
   "metadata": {},
   "outputs": [],
   "source": [
    "from polarUtilities import *"
   ]
  },
  {
   "cell_type": "markdown",
   "metadata": {},
   "source": [
    "We then define the diamond operator:"
   ]
  },
  {
   "cell_type": "code",
   "execution_count": 2,
   "metadata": {},
   "outputs": [],
   "source": [
    "def polardiamond(f,g):\n",
    "    term1 = polarLaplacian(f)*polarLaplacian(g) + polarLaplacian(f*polarLaplacian(g)+g*polarLaplacian(f))\n",
    "    term2 = polarbiharmonic(f*g) + f*polarbiharmonic(g) + g*polarbiharmonic(f)\n",
    "    return (sp.Rational(1,2)*term1 - sp.Rational(1,4)*term2).simplify()"
   ]
  },
  {
   "cell_type": "markdown",
   "metadata": {},
   "source": [
    "Then, the two Foppl-von Karman equations become:"
   ]
  },
  {
   "cell_type": "code",
   "execution_count": 3,
   "metadata": {},
   "outputs": [
    {
     "data": {
      "text/latex": [
       "$\\displaystyle D \\left(\\frac{d^{4}}{d r^{4}} \\zeta{\\left(r \\right)} + \\frac{2 \\frac{d^{3}}{d r^{3}} \\zeta{\\left(r \\right)}}{r} - \\frac{\\frac{d^{2}}{d r^{2}} \\zeta{\\left(r \\right)}}{r^{2}} + \\frac{\\frac{d}{d r} \\zeta{\\left(r \\right)}}{r^{3}}\\right) = q + \\frac{\\frac{d}{d r} \\varphi{\\left(r \\right)} \\frac{d^{2}}{d r^{2}} \\zeta{\\left(r \\right)} + \\frac{d^{2}}{d r^{2}} \\varphi{\\left(r \\right)} \\frac{d}{d r} \\zeta{\\left(r \\right)}}{r}$"
      ],
      "text/plain": [
       "<IPython.core.display.Math object>"
      ]
     },
     "metadata": {},
     "output_type": "display_data"
    },
    {
     "data": {
      "text/latex": [
       "$\\displaystyle \\frac{d^{4}}{d r^{4}} \\varphi{\\left(r \\right)} + \\frac{2 \\frac{d^{3}}{d r^{3}} \\varphi{\\left(r \\right)}}{r} - \\frac{\\frac{d^{2}}{d r^{2}} \\varphi{\\left(r \\right)}}{r^{2}} + \\frac{\\frac{d}{d r} \\varphi{\\left(r \\right)}}{r^{3}} = -\\frac{1}{2}Eh \\frac{2 \\frac{d}{d r} \\zeta{\\left(r \\right)} \\frac{d^{2}}{d r^{2}} \\zeta{\\left(r \\right)}}{r}$"
      ],
      "text/plain": [
       "<IPython.core.display.Math object>"
      ]
     },
     "metadata": {},
     "output_type": "display_data"
    }
   ],
   "source": [
    "from IPython.display import Math\n",
    "\n",
    "D = sp.symbols('D')\n",
    "varphi = sp.Function('varphi')(r)\n",
    "zeta = sp.Function('zeta')(r)\n",
    "\n",
    "display(Math(r'{} = q + {}'.format(sp.latex(D*polarbiharmonic(zeta)),sp.latex(polardiamond(varphi,zeta)))))\n",
    "\n",
    "display(Math(r'{} = -\\frac{{1}}{{2}}Eh {}'.format(sp.latex(polarbiharmonic(varphi)),sp.latex(polardiamond(zeta,zeta)))))"
   ]
  },
  {
   "cell_type": "markdown",
   "metadata": {},
   "source": [
    "To proceed with the solution of the two equations, we first take up the second equation, and note that in the situation just before buckling starts, $\\zeta = 0$. Then, the second of the Foppl-von Karman equations becomes"
   ]
  },
  {
   "cell_type": "code",
   "execution_count": 4,
   "metadata": {},
   "outputs": [
    {
     "data": {
      "text/latex": [
       "$\\displaystyle \\frac{d^{4}}{d r^{4}} \\varphi{\\left(r \\right)} + \\frac{2 \\frac{d^{3}}{d r^{3}} \\varphi{\\left(r \\right)}}{r} - \\frac{\\frac{d^{2}}{d r^{2}} \\varphi{\\left(r \\right)}}{r^{2}} + \\frac{\\frac{d}{d r} \\varphi{\\left(r \\right)}}{r^{3}} = 0$"
      ],
      "text/plain": [
       "<IPython.core.display.Math object>"
      ]
     },
     "metadata": {},
     "output_type": "display_data"
    }
   ],
   "source": [
    "lhs = polarbiharmonic(varphi)\n",
    "display(Math(r'{} = 0'.format(sp.latex(lhs))))"
   ]
  },
  {
   "cell_type": "code",
   "execution_count": 5,
   "metadata": {},
   "outputs": [
    {
     "data": {
      "text/latex": [
       "$\\displaystyle \\varphi{\\left(r \\right)} = C_{1} + C_{2} r^{2} + C_{3} r^{2} \\log{\\left(r \\right)} + C_{4} \\log{\\left(r \\right)}$"
      ],
      "text/plain": [
       "Eq(varphi(r), C1 + C2*r**2 + C3*r**2*log(r) + C4*log(r))"
      ]
     },
     "execution_count": 5,
     "metadata": {},
     "output_type": "execute_result"
    }
   ],
   "source": [
    "varphi_soln = sp.dsolve(lhs)\n",
    "varphi_soln"
   ]
  },
  {
   "cell_type": "markdown",
   "metadata": {},
   "source": [
    "This is exactly like the thick-walled pressure vessel problem where $C_3$ must be zero (from displacement considerations). So we rewrite the solution as:"
   ]
  },
  {
   "cell_type": "code",
   "execution_count": 6,
   "metadata": {},
   "outputs": [
    {
     "data": {
      "text/latex": [
       "$\\displaystyle \\varphi(r) = A \\log{\\left(r \\right)} + B r^{2} + D$"
      ],
      "text/plain": [
       "<IPython.core.display.Math object>"
      ]
     },
     "metadata": {},
     "output_type": "display_data"
    }
   ],
   "source": [
    "A, B, C = sp.symbols('A, B, C')\n",
    "varphi_soln = A*sp.log(r) + B*r**2 + D\n",
    "display(Math(r'\\varphi(r) = {}'.format(sp.latex(varphi_soln))))"
   ]
  },
  {
   "cell_type": "markdown",
   "metadata": {},
   "source": [
    "We again define $\\displaystyle \\Psi(r):= \\frac{{\\rm d}\\varphi}{{\\rm d}r}$"
   ]
  },
  {
   "cell_type": "code",
   "execution_count": 7,
   "metadata": {},
   "outputs": [
    {
     "data": {
      "text/latex": [
       "$\\displaystyle \\Psi(r) = \\frac{A}{r} + 2 B r$"
      ],
      "text/plain": [
       "<IPython.core.display.Math object>"
      ]
     },
     "metadata": {},
     "output_type": "display_data"
    }
   ],
   "source": [
    "Psi = sp.diff(varphi_soln,r)\n",
    "display(Math(r'\\Psi(r) = {}'.format(sp.latex(Psi))))"
   ]
  },
  {
   "cell_type": "markdown",
   "metadata": {},
   "source": [
    "Now, since $\\displaystyle \\int_{-h/2}^{h/2}\\sigma_{rr}\\; {\\rm d}z := \\frac{1}{r}\\frac{{\\rm d} \\varphi}{{\\rm d} r}$ and $\\displaystyle \\int_{-h/2}^{h/2}\\sigma_{\\theta \\theta}\\; {\\rm d}z := \\frac{{\\rm d^2} \\varphi}{{\\rm d} r^2}$, therefore we have $\\displaystyle \\int_{-h/2}^{h/2}\\sigma_{rr}\\; {\\rm d}z := \\frac{\\Psi}{r}$ and $\\displaystyle \\int_{-h/2}^{h/2}\\sigma_{\\theta \\theta}\\; {\\rm d}z := \\frac{ {\\rm d} \\Psi}{{\\rm d} r}$.\n",
    "\n",
    "Next, we use the following boundary conditions:\n",
    "\n",
    "At $r=a$, $\\displaystyle \\int_{-h/2}^{h/2} \\sigma_{rr} \\; {\\rm d}z = -P$\n",
    "\n",
    "At $r=b$, $\\displaystyle \\int_{-h/2}^{h/2} \\sigma_{rr} \\; {\\rm d}z = 0$"
   ]
  },
  {
   "cell_type": "code",
   "execution_count": 8,
   "metadata": {},
   "outputs": [
    {
     "data": {
      "text/latex": [
       "$\\displaystyle \\frac{\\frac{A}{a} + 2 B a}{a} = - P$"
      ],
      "text/plain": [
       "Eq((A/a + 2*B*a)/a, -P)"
      ]
     },
     "metadata": {},
     "output_type": "display_data"
    },
    {
     "data": {
      "text/latex": [
       "$\\displaystyle \\frac{\\frac{A}{b} + 2 B b}{b} = 0$"
      ],
      "text/plain": [
       "Eq((A/b + 2*B*b)/b, 0)"
      ]
     },
     "metadata": {},
     "output_type": "display_data"
    },
    {
     "data": {
      "text/latex": [
       "$\\displaystyle A = \\frac{P a^{2} b^{2}}{a^{2} - b^{2}}$"
      ],
      "text/plain": [
       "<IPython.core.display.Math object>"
      ]
     },
     "metadata": {},
     "output_type": "display_data"
    },
    {
     "data": {
      "text/latex": [
       "$\\displaystyle B = - \\frac{P a^{2}}{2 a^{2} - 2 b^{2}}$"
      ],
      "text/plain": [
       "<IPython.core.display.Math object>"
      ]
     },
     "metadata": {},
     "output_type": "display_data"
    }
   ],
   "source": [
    "a, b, P = sp.symbols('a, b, P', positive=True)\n",
    "lhs1 = Psi.subs(r,a)/a\n",
    "rhs1 = -P\n",
    "eqn1 = sp.Eq(lhs1,rhs1)\n",
    "display(eqn1)\n",
    "\n",
    "lhs2 = Psi.subs(r,b)/b\n",
    "rhs2 = 0\n",
    "eqn2 = sp.Eq(lhs2,rhs2)\n",
    "display(eqn2)\n",
    "\n",
    "sol, = sp.linsolve([eqn1,eqn2],(A,B))\n",
    "A_value = sol[0]\n",
    "B_value = sol[1]\n",
    "\n",
    "display(Math(r'A = {}'.format(sp.latex(A_value))))\n",
    "display(Math(r'B = {}'.format(sp.latex(B_value))))"
   ]
  },
  {
   "cell_type": "markdown",
   "metadata": {},
   "source": [
    "So, the expression for $\\Psi(r)$ becomes"
   ]
  },
  {
   "cell_type": "code",
   "execution_count": 9,
   "metadata": {},
   "outputs": [
    {
     "data": {
      "text/latex": [
       "$\\displaystyle \\Psi(r) = \\frac{P a^{2} b^{2}}{r \\left(a^{2} - b^{2}\\right)} - \\frac{2 P a^{2} r}{2 a^{2} - 2 b^{2}}$"
      ],
      "text/plain": [
       "<IPython.core.display.Math object>"
      ]
     },
     "metadata": {},
     "output_type": "display_data"
    }
   ],
   "source": [
    "Psi_soln = Psi.subs([(A,A_value),(B,B_value)])\n",
    "display(Math(r'\\Psi(r) = {}'.format(sp.latex(Psi_soln))))"
   ]
  },
  {
   "cell_type": "markdown",
   "metadata": {},
   "source": [
    "Next, we go the first of the Foppl-von Karman equations, and rewrite it in the following form:\n",
    "\n",
    "$D \\displaystyle \\frac{1}{r} \\frac{{\\rm d}}{{\\rm d} r} \\left[ r \\frac{{\\rm d}}{{\\rm d} r} \\left\\{ \\frac{1}{r} \\frac{{\\rm d}}{{\\rm d} r} \\left( r \\frac{{\\rm d}\\zeta}{{\\rm d}r} \\right) \\right\\} \\right] = \\frac{1}{r} \\frac{{\\rm d}}{{\\rm d}r} \\left( \\frac{{\\rm d} \\varphi}{{\\rm d}r} \\frac{{\\rm d}\\zeta}{{\\rm d}r}  \\right) $\n",
    "\n",
    "We cancel the $\\displaystyle \\frac{1}{r}$ from both sides, integrate once, and divide throughout by $r$ to obtain:\n",
    "\n",
    "$\\displaystyle D \\frac{{\\rm d}}{{\\rm d} r} \\left\\{ \\frac{1}{r} \\frac{{\\rm d}}{{\\rm d} r} \\left( r \\frac{{\\rm d}\\zeta}{{\\rm d}r} \\right) \\right\\}  = \\frac{1}{r}\\frac{{\\rm d} \\varphi}{{\\rm d}r} \\frac{{\\rm d}\\zeta}{{\\rm d}r}  + \\frac{A_1}{r}$\n",
    "\n",
    "Note that the shear force per unit length $\\displaystyle Q_r = D \\frac{{\\rm d}}{{\\rm d}r} \\left\\{ \\frac{1}{r} \\frac{{\\rm d}}{{\\rm d}r} \\left( r \\frac{{\\rm d} \\zeta}{{\\rm d}r} \\right) \\right\\}$, and $\\displaystyle \\sigma_{rr} = \\frac{1}{r} \\frac{{\\rm d}\\varphi}{{\\rm d}r}$. \n",
    "\n",
    "So, if we consider the above equation at $r = b$, i.e. the inner periphery, then $\\displaystyle \\left. Q_r \\right|_{r=b} = 0$ and $\\displaystyle \\left. \\sigma_{rr}\\right|_{r=b} = 0$, which implies that $A_1 = 0$. \n",
    "\n",
    "Set $\\displaystyle \\frac{{\\rm d}\\zeta}{{\\rm d}r} =: W$. Then the above equation becomes:\n",
    "\n",
    "$\\displaystyle D \\frac{{\\rm d}}{{\\rm d} r} \\left\\{ \\frac{1}{r} \\frac{{\\rm d}}{{\\rm d} r} \\left( r W \\right) \\right\\} = \\frac{1}{r}\\Psi W$\n",
    "\n",
    "We expand the lhs and substitute the solution for $\\Psi$ in the rhs to obtain"
   ]
  },
  {
   "cell_type": "code",
   "execution_count": 10,
   "metadata": {},
   "outputs": [
    {
     "data": {
      "text/latex": [
       "$\\displaystyle D \\left(\\frac{d^{2}}{d r^{2}} W{\\left(r \\right)} + \\frac{\\frac{d}{d r} W{\\left(r \\right)}}{r} - \\frac{W{\\left(r \\right)}}{r^{2}}\\right) = \\frac{\\left(\\frac{P a^{2} b^{2}}{r \\left(a^{2} - b^{2}\\right)} - \\frac{2 P a^{2} r}{2 a^{2} - 2 b^{2}}\\right) W{\\left(r \\right)}}{r}$"
      ],
      "text/plain": [
       "<IPython.core.display.Math object>"
      ]
     },
     "metadata": {},
     "output_type": "display_data"
    }
   ],
   "source": [
    "W = sp.Function('W')(r)\n",
    "\n",
    "lhs = D*sp.diff(sp.diff(W,r)+W/r,r)\n",
    "rhs = 1/r*(Psi_soln*W)\n",
    "display(Math(r'{} = {}'.format(sp.latex(lhs),sp.latex(rhs))))"
   ]
  },
  {
   "cell_type": "markdown",
   "metadata": {},
   "source": [
    "Set $\\displaystyle \\frac{P}{D} =: K^2$, and divide throughout by $r^2$ to obtain:"
   ]
  },
  {
   "cell_type": "code",
   "execution_count": 11,
   "metadata": {},
   "outputs": [
    {
     "data": {
      "text/latex": [
       "$\\displaystyle r^{2} \\frac{d^{2}}{d r^{2}} W{\\left(r \\right)} + r \\frac{d}{d r} W{\\left(r \\right)} - W{\\left(r \\right)} = \\frac{K^{2} a^{2} \\left(b^{2} - r^{2}\\right) W{\\left(r \\right)}}{a^{2} - b^{2}}$"
      ],
      "text/plain": [
       "Eq(r**2*Derivative(W(r), (r, 2)) + r*Derivative(W(r), r) - W(r), K**2*a**2*(b**2 - r**2)*W(r)/(a**2 - b**2))"
      ]
     },
     "execution_count": 11,
     "metadata": {},
     "output_type": "execute_result"
    }
   ],
   "source": [
    "K = sp.symbols('K',positive=True)\n",
    "\n",
    "lhs = (r**2*sp.diff(sp.diff(W,r)+W/r,r)).simplify()\n",
    "rhs = r**2*1/r*(Psi_soln/P*K**2*W).simplify()\n",
    "sp.Eq(lhs,rhs)"
   ]
  },
  {
   "cell_type": "code",
   "execution_count": 12,
   "metadata": {},
   "outputs": [],
   "source": [
    "lhs_new = lhs + (K**2*a**2*r**2/(a**2-b**2) - K**2*a**2*b**2/(a**2-b**2) - 1)*W\n",
    "rhs_new = 0\n",
    "eq = sp.Eq(lhs_new,rhs_new)"
   ]
  },
  {
   "cell_type": "markdown",
   "metadata": {},
   "source": [
    "We set $\\displaystyle \\bar{r} = \\frac{r}{a}$, $\\displaystyle \\bar{b} = \\frac{b}{a}$ and $\\displaystyle \\bar{K} = \\frac{K a}{\\sqrt{1 - {\\bar{b}}^2}}$ to rewrite the above equation as\n",
    "\n",
    "$\\displaystyle \\bar{r}^2 \\frac{d^2 W}{d\\bar{r}^2} + \\bar{r} \\frac{dW}{d\\bar{r}} + (\\bar{K}^2 \\bar{r}^2 - 1 - \\bar{K}^2 \\bar{b}^2)W = 0$\n",
    "\n",
    "and then setting $m^2 = 1+\\bar{K}^2\\bar{b}^2$, we obtain:\n",
    "\n",
    "$\\displaystyle \\bar{r}^2 \\frac{d^2 W}{d\\bar{r}^2} + \\bar{r} \\frac{dW}{d\\bar{r}} + (\\bar{K}^2 \\bar{r}^2 - m^2)W = 0$"
   ]
  },
  {
   "cell_type": "markdown",
   "metadata": {},
   "source": [
    "We rewrite $W$ as a function of $\\bar{r}$ and solve the above equation"
   ]
  },
  {
   "cell_type": "code",
   "execution_count": 135,
   "metadata": {},
   "outputs": [
    {
     "data": {
      "text/latex": [
       "$\\displaystyle \\bar{r}^{2} \\frac{d^{2}}{d \\bar{r}^{2}} W{\\left(\\bar{r} \\right)} + \\bar{r} \\frac{d}{d \\bar{r}} W{\\left(\\bar{r} \\right)} + \\left(\\bar{K}^{2} \\bar{r}^{2} - m^{2}\\right) W{\\left(\\bar{r} \\right)} = 0$"
      ],
      "text/plain": [
       "Eq(\\bar{r}**2*Derivative(W(\\bar{r}), (\\bar{r}, 2)) + \\bar{r}*Derivative(W(\\bar{r}), \\bar{r}) + (\\bar{K}**2*\\bar{r}**2 - m**2)*W(\\bar{r}), 0)"
      ]
     },
     "metadata": {},
     "output_type": "display_data"
    },
    {
     "data": {
      "text/latex": [
       "$\\displaystyle C_{1} J_{m}\\left(\\bar{K} \\bar{r}\\right) + C_{2} Y_{m}\\left(\\bar{K} \\bar{r}\\right)$"
      ],
      "text/plain": [
       "C1*besselj(m, \\bar{K}*\\bar{r}) + C2*bessely(m, \\bar{K}*\\bar{r})"
      ]
     },
     "execution_count": 135,
     "metadata": {},
     "output_type": "execute_result"
    }
   ],
   "source": [
    "m = sp.symbols('m',positive=True)\n",
    "bbar = sp.symbols(r'\\bar{b}',positive=True)\n",
    "rbar, Kbar = sp.symbols(r'\\bar{r}, \\bar{K}')\n",
    "W = sp.Function('W')(rbar)\n",
    "\n",
    "lhs = rbar**2*sp.diff(W,rbar,2) + rbar*sp.diff(W,rbar) + (Kbar**2*rbar**2-m**2)*W\n",
    "rhs = 0\n",
    "eq = sp.Eq(lhs,rhs)\n",
    "display(eq)\n",
    "sp.dsolve(eq).args[1]"
   ]
  },
  {
   "cell_type": "markdown",
   "metadata": {},
   "source": [
    "We rewrite the solution using $A$ and $B$ as the constants:"
   ]
  },
  {
   "cell_type": "code",
   "execution_count": 99,
   "metadata": {},
   "outputs": [
    {
     "data": {
      "text/latex": [
       "$\\displaystyle A J_{m}\\left(\\bar{K} \\bar{r}\\right) + B Y_{m}\\left(\\bar{K} \\bar{r}\\right)$"
      ],
      "text/plain": [
       "A*besselj(m, \\bar{K}*\\bar{r}) + B*bessely(m, \\bar{K}*\\bar{r})"
      ]
     },
     "execution_count": 99,
     "metadata": {},
     "output_type": "execute_result"
    }
   ],
   "source": [
    "A, B = sp.symbols('A, B')\n",
    "W_soln_m = A*sp.besselj(m,Kbar*rbar) + B*sp.bessely(m,Kbar*rbar)\n",
    "W_soln_m"
   ]
  },
  {
   "cell_type": "markdown",
   "metadata": {},
   "source": [
    "The two BCs that must be satisfied are:\n",
    "\n",
    "At $\\bar{r} = 1$, $W=0$ (i.e. the slope of deflection is zero at the outer periphery)\n",
    "\n",
    "At $\\bar{r} = \\bar{b}$, the moment should be zero (the condition of zero shear has already been used)\n",
    "\n",
    "The moment is given by $\\displaystyle M_r = -D\\left(\\frac{{\\rm d}W}{{\\rm d}r} + \\nu \\frac{W}{r} \\right)$. \n",
    "\n",
    "We use a Poisson's ratio value of $\\displaystyle \\nu = \\frac{1}{3}$."
   ]
  },
  {
   "cell_type": "code",
   "execution_count": 136,
   "metadata": {},
   "outputs": [],
   "source": [
    "nu = 0.33"
   ]
  },
  {
   "cell_type": "markdown",
   "metadata": {},
   "source": [
    "We substitute $m = \\sqrt{1 + \\bar{K}^2 \\bar{b}^2}$ in the solution for $W$:"
   ]
  },
  {
   "cell_type": "code",
   "execution_count": 155,
   "metadata": {},
   "outputs": [
    {
     "data": {
      "text/latex": [
       "$\\displaystyle A J_{\\sqrt{\\bar{K}^{2} \\bar{b}^{2} + 1}}\\left(\\bar{K} \\bar{r}\\right) + B Y_{\\sqrt{\\bar{K}^{2} \\bar{b}^{2} + 1}}\\left(\\bar{K} \\bar{r}\\right)$"
      ],
      "text/plain": [
       "A*besselj(sqrt(\\bar{K}**2*\\bar{b}**2 + 1), \\bar{K}*\\bar{r}) + B*bessely(sqrt(\\bar{K}**2*\\bar{b}**2 + 1), \\bar{K}*\\bar{r})"
      ]
     },
     "metadata": {},
     "output_type": "display_data"
    }
   ],
   "source": [
    "W_soln_interim = W_soln_m.subs(m,sp.sqrt(1+Kbar**2*bbar**2))\n",
    "display(W_soln_interim)"
   ]
  },
  {
   "cell_type": "markdown",
   "metadata": {},
   "source": [
    "Noting that $\\displaystyle \\bar{K}^2 = \\frac{K^2 a^2}{1 - {\\bar{b}}^2} = \\frac{(P/D) a^2}{1 - {\\bar{b}}^2}$, we set $\\bar{P} = (P/D)a^2$, which is non-dimensional. Then the solution for $W$ gets rewritten in the form:"
   ]
  },
  {
   "cell_type": "code",
   "execution_count": 156,
   "metadata": {},
   "outputs": [
    {
     "data": {
      "text/latex": [
       "$\\displaystyle W_{\\rm soln} = A J_{\\sqrt{\\frac{\\bar{P} \\bar{b}^{2}}{1 - \\bar{b}^{2}} + 1}}\\left(\\sqrt{\\bar{P}} \\bar{r} \\sqrt{\\frac{1}{1 - \\bar{b}^{2}}}\\right) + B Y_{\\sqrt{\\frac{\\bar{P} \\bar{b}^{2}}{1 - \\bar{b}^{2}} + 1}}\\left(\\sqrt{\\bar{P}} \\bar{r} \\sqrt{\\frac{1}{1 - \\bar{b}^{2}}}\\right)$"
      ],
      "text/plain": [
       "<IPython.core.display.Math object>"
      ]
     },
     "metadata": {},
     "output_type": "display_data"
    }
   ],
   "source": [
    "Pbar = sp.symbols(r'\\bar{P}',positive=True)\n",
    "\n",
    "W_soln = W_soln_interim.subs([(Kbar,sp.sqrt(Pbar/(1-bbar**2)))])\n",
    "display(Math(r'W_{{\\rm soln}} = {}'.format(sp.latex(W_soln))))"
   ]
  },
  {
   "cell_type": "markdown",
   "metadata": {},
   "source": [
    "$\\newcommand{\\rmd}{{\\rm d}}$\n",
    "The expression for $\\displaystyle M_r = -D \\left( \\frac{\\rmd W}{\\rmd r} + \\nu \\frac{W}{r} \\right)$ is:"
   ]
  },
  {
   "cell_type": "code",
   "execution_count": 157,
   "metadata": {},
   "outputs": [
    {
     "data": {
      "text/latex": [
       "$\\displaystyle M_r = - D \\left(A \\sqrt{\\bar{P}} \\left(\\frac{J_{\\sqrt{\\frac{\\bar{P} \\bar{b}^{2}}{1 - \\bar{b}^{2}} + 1} - 1}\\left(\\sqrt{\\bar{P}} \\bar{r} \\sqrt{\\frac{1}{1 - \\bar{b}^{2}}}\\right)}{2} - \\frac{J_{\\sqrt{\\frac{\\bar{P} \\bar{b}^{2}}{1 - \\bar{b}^{2}} + 1} + 1}\\left(\\sqrt{\\bar{P}} \\bar{r} \\sqrt{\\frac{1}{1 - \\bar{b}^{2}}}\\right)}{2}\\right) \\sqrt{\\frac{1}{1 - \\bar{b}^{2}}} + B \\sqrt{\\bar{P}} \\left(\\frac{Y_{\\sqrt{\\frac{\\bar{P} \\bar{b}^{2}}{1 - \\bar{b}^{2}} + 1} - 1}\\left(\\sqrt{\\bar{P}} \\bar{r} \\sqrt{\\frac{1}{1 - \\bar{b}^{2}}}\\right)}{2} - \\frac{Y_{\\sqrt{\\frac{\\bar{P} \\bar{b}^{2}}{1 - \\bar{b}^{2}} + 1} + 1}\\left(\\sqrt{\\bar{P}} \\bar{r} \\sqrt{\\frac{1}{1 - \\bar{b}^{2}}}\\right)}{2}\\right) \\sqrt{\\frac{1}{1 - \\bar{b}^{2}}} + \\frac{0.33 A J_{\\sqrt{\\frac{\\bar{P} \\bar{b}^{2}}{1 - \\bar{b}^{2}} + 1}}\\left(\\sqrt{\\bar{P}} \\bar{r} \\sqrt{\\frac{1}{1 - \\bar{b}^{2}}}\\right) + 0.33 B Y_{\\sqrt{\\frac{\\bar{P} \\bar{b}^{2}}{1 - \\bar{b}^{2}} + 1}}\\left(\\sqrt{\\bar{P}} \\bar{r} \\sqrt{\\frac{1}{1 - \\bar{b}^{2}}}\\right)}{\\bar{r}}\\right)$"
      ],
      "text/plain": [
       "<IPython.core.display.Math object>"
      ]
     },
     "metadata": {},
     "output_type": "display_data"
    }
   ],
   "source": [
    "M_r = -D*(sp.diff(W_soln,rbar) + nu*W_soln/rbar)\n",
    "display(Math(r'M_r = {}'.format(sp.latex(M_r))))"
   ]
  },
  {
   "cell_type": "markdown",
   "metadata": {},
   "source": [
    "We use the boundary condition: $\\displaystyle \\left. M_r \\right|_{\\bar{r}=\\bar{b}} = 0$ to obtain $B$ in terms of $A$"
   ]
  },
  {
   "cell_type": "code",
   "execution_count": 158,
   "metadata": {},
   "outputs": [
    {
     "data": {
      "text/latex": [
       "$\\displaystyle B = - \\frac{A \\left(\\sqrt{\\bar{P}} \\bar{b} \\sqrt{- \\frac{1}{\\bar{b}^{2} - 1}} \\left(J_{\\sqrt{- \\frac{\\bar{P} \\bar{b}^{2} - \\bar{b}^{2} + 1}{\\bar{b}^{2} - 1}} - 1}\\left(\\sqrt{\\bar{P}} \\bar{b} \\sqrt{- \\frac{1}{\\bar{b}^{2} - 1}}\\right) - J_{\\sqrt{- \\frac{\\bar{P} \\bar{b}^{2} - \\bar{b}^{2} + 1}{\\bar{b}^{2} - 1}} + 1}\\left(\\sqrt{\\bar{P}} \\bar{b} \\sqrt{- \\frac{1}{\\bar{b}^{2} - 1}}\\right)\\right) + 0.66 J_{\\sqrt{- \\frac{\\bar{P} \\bar{b}^{2} - \\bar{b}^{2} + 1}{\\bar{b}^{2} - 1}}}\\left(\\sqrt{\\bar{P}} \\bar{b} \\sqrt{- \\frac{1}{\\bar{b}^{2} - 1}}\\right)\\right)}{\\sqrt{\\bar{P}} \\bar{b} \\sqrt{- \\frac{1}{\\bar{b}^{2} - 1}} \\left(Y_{\\sqrt{- \\frac{\\bar{P} \\bar{b}^{2} - \\bar{b}^{2} + 1}{\\bar{b}^{2} - 1}} - 1}\\left(\\sqrt{\\bar{P}} \\bar{b} \\sqrt{- \\frac{1}{\\bar{b}^{2} - 1}}\\right) - Y_{\\sqrt{- \\frac{\\bar{P} \\bar{b}^{2} - \\bar{b}^{2} + 1}{\\bar{b}^{2} - 1}} + 1}\\left(\\sqrt{\\bar{P}} \\bar{b} \\sqrt{- \\frac{1}{\\bar{b}^{2} - 1}}\\right)\\right) + 0.66 Y_{\\sqrt{- \\frac{\\bar{P} \\bar{b}^{2} - \\bar{b}^{2} + 1}{\\bar{b}^{2} - 1}}}\\left(\\sqrt{\\bar{P}} \\bar{b} \\sqrt{- \\frac{1}{\\bar{b}^{2} - 1}}\\right)}$"
      ],
      "text/plain": [
       "<IPython.core.display.Math object>"
      ]
     },
     "metadata": {},
     "output_type": "display_data"
    }
   ],
   "source": [
    "eq = sp.Eq(M_r.subs(rbar,bbar),0)\n",
    "\n",
    "soln, = sp.linsolve([eq],B)\n",
    "Bvalue = soln[0]\n",
    "display(Math(r'B = {}'.format(sp.latex(Bvalue))))\n",
    "\n",
    "#(  (sp.diff(W_sol,rbar) + nu*W_sol/rbar).subs([(rbar,bbar),(m,sp.sqrt(1+Kbar**2*bbar**2))])  ).subs(bbar,0.5).simplify()"
   ]
  },
  {
   "cell_type": "markdown",
   "metadata": {},
   "source": [
    "We substitute this expression for $B$ (in terms of $A$) in the expression for the solution for $W$:"
   ]
  },
  {
   "cell_type": "code",
   "execution_count": 159,
   "metadata": {},
   "outputs": [],
   "source": [
    "W_soln2 = W_soln.subs(B,Bvalue).simplify()"
   ]
  },
  {
   "cell_type": "markdown",
   "metadata": {},
   "source": [
    "We will now use the boundary condition that at $\\bar{r}=1$, $W=0$, i.e. the plate has zero slope at the outer periphery. In order to not end up with trivial solutions, we require that $A \\neq 0$. This condition gives us critical values of $\\bar{P}$ for a given value of $\\bar{b}$. The critical force per unit length $P$ will be found from the critical value of $\\bar{P}$. "
   ]
  },
  {
   "cell_type": "code",
   "execution_count": 160,
   "metadata": {},
   "outputs": [],
   "source": [
    "W_soln2_at_1 = W_soln2.subs(rbar,1)\n",
    "W_soln2_at_1\n",
    "\n",
    "def myfun(bbar_value,Pbar_value):\n",
    "    return (W_soln2_at_1/A).subs([(bbar, bbar_value),(Pbar,Pbar_value)])"
   ]
  },
  {
   "cell_type": "code",
   "execution_count": 161,
   "metadata": {},
   "outputs": [
    {
     "data": {
      "image/png": "[encoded data removed]",
      "text/plain": [
       "<Figure size 432x288 with 1 Axes>"
      ]
     },
     "metadata": {
      "image/png": {
       "height": 248,
       "width": 380
      },
      "needs_background": "light"
     },
     "output_type": "display_data"
    }
   ],
   "source": [
    "%config InlineBackend.figure_format = 'retina'\n",
    "import numpy as np\n",
    "bbar_values = np.arange(0.1,0.6,0.1)\n",
    "\n",
    "Pbar_values = np.arange(13,25.01,0.01)\n",
    "\n",
    "\n",
    "for current_bbar_value in bbar_values:\n",
    "    myfun_values = np.zeros(len(Pbar_values))\n",
    "    for idx, current_Pbar_value in enumerate(Pbar_values):\n",
    "        myfun_values[idx] = sp.N(myfun(current_bbar_value,current_Pbar_value))\n",
    "    \n",
    "    plt.plot(Pbar_values,myfun_values)\n",
    "    plt.grid(True)"
   ]
  },
  {
   "cell_type": "code",
   "execution_count": null,
   "metadata": {},
   "outputs": [],
   "source": []
  }
 ],
 "metadata": {
  "hide_input": false,
  "kernelspec": {
   "display_name": "Python 3",
   "language": "python",
   "name": "python3"
  },
  "language_info": {
   "codemirror_mode": {
    "name": "ipython",
    "version": 3
   },
   "file_extension": ".py",
   "mimetype": "text/x-python",
   "name": "python",
   "nbconvert_exporter": "python",
   "pygments_lexer": "ipython3",
   "version": "3.7.6"
  },
  "varInspector": {
   "cols": {
    "lenName": 16,
    "lenType": 16,
    "lenVar": 40
   },
   "kernels_config": {
    "python": {
     "delete_cmd_postfix": "",
     "delete_cmd_prefix": "del ",
     "library": "var_list.py",
     "varRefreshCmd": "print(var_dic_list())"
    },
    "r": {
     "delete_cmd_postfix": ") ",
     "delete_cmd_prefix": "rm(",
     "library": "var_list.r",
     "varRefreshCmd": "cat(var_dic_list()) "
    }
   },
   "types_to_exclude": [
    "module",
    "function",
    "builtin_function_or_method",
    "instance",
    "_Feature"
   ],
   "window_display": false
  }
 },
 "nbformat": 4,
 "nbformat_minor": 4
}
