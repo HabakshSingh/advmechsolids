{
 "cells": [
  {
   "cell_type": "markdown",
   "metadata": {},
   "source": [
    "# Simply supported rectangular plate under sinusoidal loading\n",
    "\n",
    "Consider a simply supported rectangular plate of length $a$ and breadth $b$, subjected to sinusoidal loading in the transverse ($z$) direction of the form $\\displaystyle q = q_0 \\sin \\frac{\\pi x}{a} \\sin \\frac{\\pi y}{b}$. \n",
    "\n",
    "The governing equation is: $\\displaystyle D \\left( \\frac{\\partial^4 w}{\\partial x^4} + 2 \\frac{\\partial^4 w}{\\partial x^2 \\partial y^2} + \\frac{\\partial^4 w}{\\partial y^4} \\right) = q_0 \\sin \\frac{\\pi x}{a} \\sin \\frac{\\pi y}{b}$.\n",
    "\n",
    "The boundary conditions are:\n",
    "<br>\n",
    "At $x=0$ and $x=a$: $w=0$ and $M_x = 0$\n",
    "<br>\n",
    "At $y=0$ and $y=b$: $w=0$ and $M_y = 0$\n",
    "\n",
    "Now, \n",
    "<br>\n",
    "$\\displaystyle M_x = D \\left( \\frac{\\partial^2 w}{\\partial x^2} + \\nu \\frac{\\partial^2 w}{\\partial y^2} \\right)$\n",
    "<br>\n",
    "$\\displaystyle M_y = D \\left( \\frac{\\partial^2 w}{\\partial y^2} + \\nu \\frac{\\partial^2 w}{\\partial x^2} \\right)$\n",
    "\n",
    "Furthermore, \n",
    "<br>\n",
    "\\begin{align*}\n",
    "\\text{At $x=0$ and $x=a$}, \\quad w=0 &\\implies \\frac{\\partial w}{\\partial y} = 0 \\\\\n",
    "        &\\implies \\frac{\\partial w}{\\partial y} = 0 \\\\\n",
    "        &\\implies M_x = - D \\frac{\\partial^2 w}{\\partial x^2}\n",
    "\\end{align*}\n",
    "\n",
    "\n",
    "Similarly, at $y=0$ and $y=b$, $\\displaystyle M_y = -D \\frac{\\partial^2 w}{\\partial y^2}$.\n",
    "\n",
    "First of all, consider the solution in the form $\\displaystyle w = w_0 \\sin \\frac{\\pi x}{a} \\sin \\frac{\\pi y}{b}$. Substituting this solution form in the governing equation, we obtain\n",
    "\\begin{gather*}\n",
    "D \\left( \\frac{\\pi^4}{a^4} + 2 \\frac{\\pi^4}{a^2 b^2} + \\frac{\\pi^4}{b^4} \\right) w_0 \\sin \\frac{\\pi x}{a} \\sin \\frac{\\pi y}{b} = q_0 \\sin \\frac{\\pi x}{a} \\sin \\frac{\\pi y}{b} \\\\\n",
    "\\implies w_0 = \\frac{q_0}{D \\pi^4 \\left( \\frac{1}{a^2} + \\frac{1}{b^2} \\right)^2}\n",
    "\\end{gather*}"
   ]
  },
  {
   "cell_type": "code",
   "execution_count": 3,
   "metadata": {},
   "outputs": [],
   "source": [
    "import sympy as sp\n",
    "\n",
    "x, y, w0, q0, D, nu = sp.symbols('x, y, w_0, q_0, D, nu')\n",
    "a, b = sp.symbols('a, b', positive=True)"
   ]
  },
  {
   "cell_type": "code",
   "execution_count": 4,
   "metadata": {},
   "outputs": [],
   "source": [
    "def biharmonic(f):\n",
    "    return sp.diff(f,x,4)+2*sp.diff(f,x,2,y,2)+sp.diff(f,y,4)"
   ]
  },
  {
   "cell_type": "code",
   "execution_count": 6,
   "metadata": {},
   "outputs": [
    {
     "data": {
      "text/latex": [
       "$\\displaystyle w = \\frac{q_{0} \\sin{\\left(\\frac{\\pi x}{a} \\right)} \\sin{\\left(\\frac{\\pi y}{b} \\right)}}{\\pi^{4} D \\left(\\frac{1}{b^{2}} + \\frac{1}{a^{2}}\\right)^{2}}$"
      ],
      "text/plain": [
       "<IPython.core.display.Math object>"
      ]
     },
     "metadata": {},
     "output_type": "display_data"
    }
   ],
   "source": [
    "q = q0*sp.sin(sp.pi*x/a)*sp.sin(sp.pi*y/b)\n",
    "w0 = q0/(D*sp.pi**4*(1/a**2 + 1/b**2)**2)\n",
    "w = w0*sp.sin(sp.pi*x/a)*sp.sin(sp.pi*y/b)\n",
    "\n",
    "from IPython.display import Math\n",
    "display(Math(r'w = {}'.format(sp.latex(w))))"
   ]
  },
  {
   "cell_type": "markdown",
   "metadata": {},
   "source": [
    "We check that $w$ indeed satisfies the governing differential equation:"
   ]
  },
  {
   "cell_type": "code",
   "execution_count": 60,
   "metadata": {},
   "outputs": [
    {
     "data": {
      "text/latex": [
       "$\\displaystyle 0$"
      ],
      "text/plain": [
       "0"
      ]
     },
     "execution_count": 60,
     "metadata": {},
     "output_type": "execute_result"
    }
   ],
   "source": [
    "D*biharmonic(w).simplify() - q"
   ]
  },
  {
   "cell_type": "markdown",
   "metadata": {},
   "source": [
    "It does. Next, we find the expressions of $M_x$, $M_y$, and $M_{xy}$:"
   ]
  },
  {
   "cell_type": "code",
   "execution_count": 8,
   "metadata": {},
   "outputs": [
    {
     "data": {
      "text/latex": [
       "$\\displaystyle M_x = \\frac{a^{2} b^{2} q_{0} \\left(a^{2} \\nu + b^{2}\\right) \\sin{\\left(\\frac{\\pi x}{a} \\right)} \\sin{\\left(\\frac{\\pi y}{b} \\right)}}{\\pi^{2} \\left(a^{2} + b^{2}\\right)^{2}}$"
      ],
      "text/plain": [
       "<IPython.core.display.Math object>"
      ]
     },
     "metadata": {},
     "output_type": "display_data"
    }
   ],
   "source": [
    "Mx = -D*(sp.diff(w,x,2) + nu*sp.diff(w,y,2)).simplify()\n",
    "display(Math(r'M_x = {}'.format(sp.latex(Mx))))"
   ]
  },
  {
   "cell_type": "code",
   "execution_count": 9,
   "metadata": {},
   "outputs": [
    {
     "data": {
      "text/latex": [
       "$\\displaystyle M_y = \\frac{a^{2} b^{2} q_{0} \\left(a^{2} + b^{2} \\nu\\right) \\sin{\\left(\\frac{\\pi x}{a} \\right)} \\sin{\\left(\\frac{\\pi y}{b} \\right)}}{\\pi^{2} \\left(a^{2} + b^{2}\\right)^{2}}$"
      ],
      "text/plain": [
       "<IPython.core.display.Math object>"
      ]
     },
     "metadata": {},
     "output_type": "display_data"
    }
   ],
   "source": [
    "My = -D*(sp.diff(w,y,2) + nu*sp.diff(w,x,2)).simplify()\n",
    "display(Math(r'M_y = {}'.format(sp.latex(My))))"
   ]
  },
  {
   "cell_type": "code",
   "execution_count": 10,
   "metadata": {},
   "outputs": [
    {
     "data": {
      "text/latex": [
       "$\\displaystyle M_{xy} = - \\frac{q_{0} \\left(1 - \\nu\\right) \\cos{\\left(\\frac{\\pi x}{a} \\right)} \\cos{\\left(\\frac{\\pi y}{b} \\right)}}{\\pi^{2} a b \\left(\\frac{1}{b^{2}} + \\frac{1}{a^{2}}\\right)^{2}}$"
      ],
      "text/plain": [
       "<IPython.core.display.Math object>"
      ]
     },
     "metadata": {},
     "output_type": "display_data"
    }
   ],
   "source": [
    "Mxy = -D*(1-nu)*sp.diff(w,x,y)\n",
    "display(Math(r'M_{{xy}} = {}'.format(sp.latex(Mxy))))"
   ]
  },
  {
   "cell_type": "markdown",
   "metadata": {},
   "source": [
    "Next, we find the expressions of $\\displaystyle Q_x = \\frac{\\partial M_x}{\\partial x} + \\frac{\\partial M_{xy}}{\\partial y}$ and $\\displaystyle Q_y = \\frac{\\partial M_{xy}}{\\partial y} + \\frac{\\partial M_y}{\\partial y}$:"
   ]
  },
  {
   "cell_type": "code",
   "execution_count": 11,
   "metadata": {},
   "outputs": [
    {
     "data": {
      "text/latex": [
       "$\\displaystyle Q_x = \\frac{a b^{2} q_{0} \\sin{\\left(\\frac{\\pi y}{b} \\right)} \\cos{\\left(\\frac{\\pi x}{a} \\right)}}{\\pi \\left(a^{2} + b^{2}\\right)}$"
      ],
      "text/plain": [
       "<IPython.core.display.Math object>"
      ]
     },
     "metadata": {},
     "output_type": "display_data"
    }
   ],
   "source": [
    "Qx = (sp.diff(Mx,x)+sp.diff(Mxy,y)).simplify()\n",
    "display(Math(r'Q_x = {}'.format(sp.latex(Qx))))"
   ]
  },
  {
   "cell_type": "code",
   "execution_count": 12,
   "metadata": {},
   "outputs": [
    {
     "data": {
      "text/latex": [
       "$\\displaystyle Q_y = \\frac{a^{2} b q_{0} \\sin{\\left(\\frac{\\pi x}{a} \\right)} \\cos{\\left(\\frac{\\pi y}{b} \\right)}}{\\pi \\left(a^{2} + b^{2}\\right)}$"
      ],
      "text/plain": [
       "<IPython.core.display.Math object>"
      ]
     },
     "metadata": {},
     "output_type": "display_data"
    }
   ],
   "source": [
    "Qy = (sp.diff(Mxy,x)+sp.diff(My,y)).simplify()\n",
    "display(Math(r'Q_y = {}'.format(sp.latex(Qy))))"
   ]
  },
  {
   "cell_type": "markdown",
   "metadata": {},
   "source": [
    "Next, we find the expressions for the effective shear forces $\\displaystyle V_x = Q_x + \\frac{\\partial M_{xy}}{\\partial y}$ and $\\displaystyle V_y = Q_y + \\frac{\\partial M_{xy}}{\\partial x}$:"
   ]
  },
  {
   "cell_type": "code",
   "execution_count": 14,
   "metadata": {},
   "outputs": [
    {
     "data": {
      "text/latex": [
       "$\\displaystyle V_x = \\frac{a b^{2} q_{0} \\left(- a^{2} \\left(\\nu - 1\\right) + a^{2} + b^{2}\\right) \\sin{\\left(\\frac{\\pi y}{b} \\right)} \\cos{\\left(\\frac{\\pi x}{a} \\right)}}{\\pi \\left(a^{2} + b^{2}\\right)^{2}}$"
      ],
      "text/plain": [
       "<IPython.core.display.Math object>"
      ]
     },
     "metadata": {},
     "output_type": "display_data"
    }
   ],
   "source": [
    "Vx = (Qx + sp.diff(Mxy,y)).simplify()\n",
    "display(Math(r'V_x = {}'.format(sp.latex(Vx))))"
   ]
  },
  {
   "cell_type": "code",
   "execution_count": 15,
   "metadata": {},
   "outputs": [
    {
     "data": {
      "text/latex": [
       "$\\displaystyle V_y = \\frac{a^{2} b q_{0} \\left(a^{2} - b^{2} \\left(\\nu - 1\\right) + b^{2}\\right) \\sin{\\left(\\frac{\\pi x}{a} \\right)} \\cos{\\left(\\frac{\\pi y}{b} \\right)}}{\\pi \\left(a^{2} + b^{2}\\right)^{2}}$"
      ],
      "text/plain": [
       "<IPython.core.display.Math object>"
      ]
     },
     "metadata": {},
     "output_type": "display_data"
    }
   ],
   "source": [
    "Vy = (Qy + sp.diff(Mxy,x)).simplify()\n",
    "display(Math(r'V_y = {}'.format(sp.latex(Vy))))"
   ]
  },
  {
   "cell_type": "markdown",
   "metadata": {},
   "source": [
    "Now, $V_x$ along the edge $x=0$ is:"
   ]
  },
  {
   "cell_type": "code",
   "execution_count": 19,
   "metadata": {},
   "outputs": [
    {
     "data": {
      "text/latex": [
       "$\\displaystyle \\left. V_x \\right|_{x=0} = \\frac{a b^{2} q_{0} \\left(- a^{2} \\left(\\nu - 1\\right) + a^{2} + b^{2}\\right) \\sin{\\left(\\frac{\\pi y}{b} \\right)}}{\\pi \\left(a^{2} + b^{2}\\right)^{2}}$"
      ],
      "text/plain": [
       "<IPython.core.display.Math object>"
      ]
     },
     "metadata": {},
     "output_type": "display_data"
    }
   ],
   "source": [
    "Vx_at_0 = Vx.subs(x,0)\n",
    "display(Math(r'\\left. V_x \\right|_{{x=0}} = {}'.format(sp.latex(Vx_at_0))))"
   ]
  },
  {
   "cell_type": "code",
   "execution_count": 20,
   "metadata": {},
   "outputs": [
    {
     "data": {
      "text/latex": [
       "$\\displaystyle \\left. V_x \\right|_{x=a} = - \\frac{a b^{2} q_{0} \\left(- a^{2} \\left(\\nu - 1\\right) + a^{2} + b^{2}\\right) \\sin{\\left(\\frac{\\pi y}{b} \\right)}}{\\pi \\left(a^{2} + b^{2}\\right)^{2}}$"
      ],
      "text/plain": [
       "<IPython.core.display.Math object>"
      ]
     },
     "metadata": {},
     "output_type": "display_data"
    }
   ],
   "source": [
    "Vx_at_a = Vx.subs(x,a)\n",
    "display(Math(r'\\left. V_x \\right|_{{x=a}} = {}'.format(sp.latex(Vx_at_a))))"
   ]
  },
  {
   "cell_type": "markdown",
   "metadata": {},
   "source": [
    "It is important to note that the opposite signs of $V_x$ at $x=0$ and $x=a$ indicate that physically the effective shear forces are in the same direction. \n",
    "\n",
    "In a similar fashion we obtain the expressions of $V_y$ along the edge $y=0$ and $y=b$:"
   ]
  },
  {
   "cell_type": "code",
   "execution_count": 23,
   "metadata": {},
   "outputs": [
    {
     "data": {
      "text/latex": [
       "$\\displaystyle \\left. V_y \\right|_{y=0} = \\frac{a^{2} b q_{0} \\left(a^{2} - b^{2} \\left(\\nu - 1\\right) + b^{2}\\right) \\sin{\\left(\\frac{\\pi x}{a} \\right)}}{\\pi \\left(a^{2} + b^{2}\\right)^{2}}$"
      ],
      "text/plain": [
       "<IPython.core.display.Math object>"
      ]
     },
     "metadata": {},
     "output_type": "display_data"
    },
    {
     "data": {
      "text/latex": [
       "$\\displaystyle \\left. V_y \\right|_{y=b} = - \\frac{a^{2} b q_{0} \\left(a^{2} - b^{2} \\left(\\nu - 1\\right) + b^{2}\\right) \\sin{\\left(\\frac{\\pi x}{a} \\right)}}{\\pi \\left(a^{2} + b^{2}\\right)^{2}}$"
      ],
      "text/plain": [
       "<IPython.core.display.Math object>"
      ]
     },
     "metadata": {},
     "output_type": "display_data"
    }
   ],
   "source": [
    "Vy_at_0 = Vy.subs(y,0)\n",
    "display(Math(r'\\left. V_y \\right|_{{y=0}} = {}'.format(sp.latex(Vy_at_0))))\n",
    "\n",
    "Vy_at_b = Vy.subs(y,b)\n",
    "display(Math(r'\\left. V_y \\right|_{{y=b}} = {}'.format(sp.latex(Vy_at_b))))"
   ]
  },
  {
   "cell_type": "markdown",
   "metadata": {},
   "source": [
    "Therefore, the total reaction force along the four edges will be:<br>\n",
    "$F = \\displaystyle \\int_0^b 2 \\left. V_x \\right|_{x=0} \\; {\\rm d} y + \\int_0^a 2 \\left. V_y \\right|_{y=0} \\; {\\rm d} x$"
   ]
  },
  {
   "cell_type": "code",
   "execution_count": 27,
   "metadata": {},
   "outputs": [
    {
     "data": {
      "text/latex": [
       "$\\displaystyle F_{\\rm edges} = \\frac{4 a b q_{0} \\left(a^{4} - 2 a^{2} b^{2} \\nu + 4 a^{2} b^{2} + b^{4}\\right)}{\\pi^{2} \\left(a^{4} + 2 a^{2} b^{2} + b^{4}\\right)}$"
      ],
      "text/plain": [
       "<IPython.core.display.Math object>"
      ]
     },
     "metadata": {},
     "output_type": "display_data"
    }
   ],
   "source": [
    "F_edges = (2*sp.integrate(Vx_at_0,(y,0,b)) + 2*sp.integrate(Vy_at_0,(x,0,a))).simplify()\n",
    "display(Math(r'F_{{\\rm edges}} = {}'.format(sp.latex(F_edges))))"
   ]
  },
  {
   "cell_type": "markdown",
   "metadata": {},
   "source": [
    "The total external force applied by the sinusoidal loading is: <br> \n",
    "$F_{\\rm ext} = \\displaystyle \\int_0^b \\int_0^a q \\; {\\rm d} x {\\rm d} y$"
   ]
  },
  {
   "cell_type": "code",
   "execution_count": 28,
   "metadata": {},
   "outputs": [
    {
     "data": {
      "text/latex": [
       "$\\displaystyle F_{\\rm ext} = \\frac{4 a b q_{0}}{\\pi^{2}}$"
      ],
      "text/plain": [
       "<IPython.core.display.Math object>"
      ]
     },
     "metadata": {},
     "output_type": "display_data"
    }
   ],
   "source": [
    "F_ext = sp.integrate(q,(x,0,a),(y,0,b))\n",
    "display(Math(r'F_{{\\rm ext}} = {}'.format(sp.latex(F_ext))))"
   ]
  },
  {
   "cell_type": "markdown",
   "metadata": {},
   "source": [
    "Note that there is a discrepancy between $F_{\\rm edges}$ and $F_{\\rm ext}$. This discrepancy can be corrected by accounting for the forces at the 4 corners of the rectangular plate. \n",
    "\n",
    "At at the corner $(x=a, y=b)$, we have:"
   ]
  },
  {
   "cell_type": "code",
   "execution_count": 31,
   "metadata": {},
   "outputs": [
    {
     "data": {
      "text/latex": [
       "$\\displaystyle F_{\\rm corner} =- \\frac{2 q_{0} \\left(1 - \\nu\\right)}{\\pi^{2} a b \\left(\\frac{1}{b^{2}} + \\frac{1}{a^{2}}\\right)^{2}}$"
      ],
      "text/plain": [
       "<IPython.core.display.Math object>"
      ]
     },
     "metadata": {},
     "output_type": "display_data"
    }
   ],
   "source": [
    "F_corner = 2*Mxy.subs([(x,a),(y,b)])\n",
    "display(Math(r'F_{{\\rm corner}} ={}'.format(sp.latex(F_corner))))"
   ]
  },
  {
   "cell_type": "markdown",
   "metadata": {},
   "source": [
    "We check that the following is indeed true:\n",
    "<br>\n",
    "$F_{\\rm edges} + 4 F_{\\rm corner} = F_{\\rm ext}$"
   ]
  },
  {
   "cell_type": "code",
   "execution_count": 32,
   "metadata": {},
   "outputs": [
    {
     "data": {
      "text/latex": [
       "$\\displaystyle \\frac{4 a b q_{0}}{\\pi^{2}}$"
      ],
      "text/plain": [
       "4*a*b*q_0/pi**2"
      ]
     },
     "execution_count": 32,
     "metadata": {},
     "output_type": "execute_result"
    }
   ],
   "source": [
    "(F_edges + 4*F_corner).simplify()"
   ]
  }
 ],
 "metadata": {
  "kernelspec": {
   "display_name": "Python 3",
   "language": "python",
   "name": "python3"
  },
  "language_info": {
   "codemirror_mode": {
    "name": "ipython",
    "version": 3
   },
   "file_extension": ".py",
   "mimetype": "text/x-python",
   "name": "python",
   "nbconvert_exporter": "python",
   "pygments_lexer": "ipython3",
   "version": "3.7.3"
  }
 },
 "nbformat": 4,
 "nbformat_minor": 2
}
