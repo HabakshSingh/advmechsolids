{
 "cells": [
  {
   "cell_type": "markdown",
   "id": "508cff01",
   "metadata": {},
   "source": [
    "### Determine the deflection curve of a cantilever beam of length $L$ loaded by a vertical point load ($P$) acting at mid-span "
   ]
  },
  {
   "cell_type": "code",
   "execution_count": 1,
   "id": "a24a98bd",
   "metadata": {},
   "outputs": [],
   "source": [
    "import sympy as sym\n",
    "from sympy import SingularityFunction as SF\n",
    "from sympy import DiracDelta\n",
    "from sympy import Piecewise"
   ]
  },
  {
   "cell_type": "code",
   "execution_count": 2,
   "id": "303a4a8b",
   "metadata": {},
   "outputs": [
    {
     "data": {
      "text/latex": [
       "$\\displaystyle w{\\left(x \\right)}$"
      ],
      "text/plain": [
       "w(x)"
      ]
     },
     "execution_count": 2,
     "metadata": {},
     "output_type": "execute_result"
    }
   ],
   "source": [
    "x = sym.symbols('x')\n",
    "L, P, E, I = sym.symbols('L, P, E, I',positive=True) \n",
    "w = sym.Function('w')(x)\n",
    "w"
   ]
  },
  {
   "cell_type": "code",
   "execution_count": 3,
   "id": "1ab96a6e",
   "metadata": {},
   "outputs": [
    {
     "data": {
      "text/latex": [
       "$\\displaystyle \\frac{P \\delta\\left(- \\frac{L}{2} + x\\right)}{E I}$"
      ],
      "text/plain": [
       "P*DiracDelta(-L/2 + x)/(E*I)"
      ]
     },
     "execution_count": 3,
     "metadata": {},
     "output_type": "execute_result"
    }
   ],
   "source": [
    "load = P/(E*I)*DiracDelta(x-L/2)\n",
    "load"
   ]
  },
  {
   "cell_type": "code",
   "execution_count": 4,
   "id": "745b53a2",
   "metadata": {},
   "outputs": [
    {
     "data": {
      "text/latex": [
       "$\\displaystyle \\frac{d^{4}}{d x^{4}} w{\\left(x \\right)} = \\frac{P \\delta\\left(- \\frac{L}{2} + x\\right)}{E I}$"
      ],
      "text/plain": [
       "Eq(Derivative(w(x), (x, 4)), P*DiracDelta(-L/2 + x)/(E*I))"
      ]
     },
     "metadata": {},
     "output_type": "display_data"
    }
   ],
   "source": [
    "eq = sym.Eq(sym.diff(w,(x,4)),load)\n",
    "display(eq)"
   ]
  },
  {
   "cell_type": "code",
   "execution_count": 5,
   "id": "7d2b5ec6",
   "metadata": {},
   "outputs": [
    {
     "data": {
      "text/latex": [
       "$\\displaystyle w{\\left(x \\right)} = C_{1} + x^{3} \\left(C_{4} + \\frac{P \\theta\\left(- \\frac{L}{2} + x\\right)}{6 E I}\\right) + x^{2} \\left(C_{3} - \\frac{L P \\theta\\left(- \\frac{L}{2} + x\\right)}{4 E I}\\right) + x \\left(C_{2} + \\frac{L^{2} P \\theta\\left(- \\frac{L}{2} + x\\right)}{8 E I}\\right) - \\frac{L^{3} P \\theta\\left(- \\frac{L}{2} + x\\right)}{48 E I}$"
      ],
      "text/plain": [
       "Eq(w(x), C1 + x**3*(C4 + P*Heaviside(-L/2 + x)/(6*E*I)) + x**2*(C3 - L*P*Heaviside(-L/2 + x)/(4*E*I)) + x*(C2 + L**2*P*Heaviside(-L/2 + x)/(8*E*I)) - L**3*P*Heaviside(-L/2 + x)/(48*E*I))"
      ]
     },
     "execution_count": 5,
     "metadata": {},
     "output_type": "execute_result"
    }
   ],
   "source": [
    "soln0 = sym.dsolve(eq)\n",
    "soln0"
   ]
  },
  {
   "cell_type": "code",
   "execution_count": 6,
   "id": "4679d5c1",
   "metadata": {},
   "outputs": [
    {
     "data": {
      "text/latex": [
       "$\\displaystyle w{\\left(x \\right)} = \\begin{cases} C_{1} + C_{2} x + C_{3} x^{2} + C_{4} x^{3} & \\text{for}\\: L > 2 x \\\\\\frac{E I \\left(C_{1} + C_{2} x + C_{3} x^{2} + C_{4} x^{3}\\right) - \\frac{L^{3} P}{96} + \\frac{L^{2} P x}{16} - \\frac{L P x^{2}}{8} + \\frac{P x^{3}}{12}}{E I} & \\text{for}\\: L = 2 x \\\\\\frac{E I \\left(C_{1} + C_{2} x + C_{3} x^{2} + C_{4} x^{3}\\right) - \\frac{L^{3} P}{48} + \\frac{L^{2} P x}{8} - \\frac{L P x^{2}}{4} + \\frac{P x^{3}}{6}}{E I} & \\text{for}\\: L < 2 x \\end{cases}$"
      ],
      "text/plain": [
       "Eq(w(x), Piecewise((C1 + C2*x + C3*x**2 + C4*x**3, L > 2*x), ((E*I*(C1 + C2*x + C3*x**2 + C4*x**3) - L**3*P/96 + L**2*P*x/16 - L*P*x**2/8 + P*x**3/12)/(E*I), Eq(L, 2*x)), ((E*I*(C1 + C2*x + C3*x**2 + C4*x**3) - L**3*P/48 + L**2*P*x/8 - L*P*x**2/4 + P*x**3/6)/(E*I), L < 2*x)))"
      ]
     },
     "execution_count": 6,
     "metadata": {},
     "output_type": "execute_result"
    }
   ],
   "source": [
    "soln1 = soln0.rewrite(Piecewise).simplify()\n",
    "soln1"
   ]
  },
  {
   "cell_type": "code",
   "execution_count": 7,
   "id": "28819817",
   "metadata": {},
   "outputs": [
    {
     "data": {
      "text/latex": [
       "$\\displaystyle \\begin{cases} C_{1} + C_{2} x + C_{3} x^{2} + C_{4} x^{3} & \\text{for}\\: L > 2 x \\\\\\frac{E I \\left(C_{1} + C_{2} x + C_{3} x^{2} + C_{4} x^{3}\\right) - \\frac{L^{3} P}{96} + \\frac{L^{2} P x}{16} - \\frac{L P x^{2}}{8} + \\frac{P x^{3}}{12}}{E I} & \\text{for}\\: L = 2 x \\\\\\frac{E I \\left(C_{1} + C_{2} x + C_{3} x^{2} + C_{4} x^{3}\\right) - \\frac{L^{3} P}{48} + \\frac{L^{2} P x}{8} - \\frac{L P x^{2}}{4} + \\frac{P x^{3}}{6}}{E I} & \\text{for}\\: L < 2 x \\end{cases}$"
      ],
      "text/plain": [
       "Piecewise((C1 + C2*x + C3*x**2 + C4*x**3, L > 2*x), ((E*I*(C1 + C2*x + C3*x**2 + C4*x**3) - L**3*P/96 + L**2*P*x/16 - L*P*x**2/8 + P*x**3/12)/(E*I), Eq(L, 2*x)), ((E*I*(C1 + C2*x + C3*x**2 + C4*x**3) - L**3*P/48 + L**2*P*x/8 - L*P*x**2/4 + P*x**3/6)/(E*I), L < 2*x))"
      ]
     },
     "execution_count": 7,
     "metadata": {},
     "output_type": "execute_result"
    }
   ],
   "source": [
    "wsoln_interim = soln1.rhs\n",
    "wsoln_interim"
   ]
  },
  {
   "cell_type": "code",
   "execution_count": 8,
   "id": "4d99ff53",
   "metadata": {},
   "outputs": [
    {
     "data": {
      "text/latex": [
       "$\\displaystyle C_{1} = 0$"
      ],
      "text/plain": [
       "Eq(C1, 0)"
      ]
     },
     "metadata": {},
     "output_type": "display_data"
    }
   ],
   "source": [
    "bc1_lhs = wsoln_interim.subs([(x,0)])\n",
    "bc1_rhs = 0\n",
    "bc1_eq = sym.Eq(bc1_lhs, bc1_rhs)\n",
    "display(bc1_eq)"
   ]
  },
  {
   "cell_type": "code",
   "execution_count": 9,
   "id": "36375c2b",
   "metadata": {},
   "outputs": [
    {
     "data": {
      "text/latex": [
       "$\\displaystyle \\frac{6 C_{4} E I + P}{E I} = 0$"
      ],
      "text/plain": [
       "Eq((6*C4*E*I + P)/(E*I), 0)"
      ]
     },
     "metadata": {},
     "output_type": "display_data"
    }
   ],
   "source": [
    "bc2_lhs = sym.diff(wsoln_interim,(x,3)).subs([(x,L)])\n",
    "bc2_rhs = 0\n",
    "bc2_eq = sym.Eq(bc2_lhs, bc2_rhs)\n",
    "display(bc2_eq)"
   ]
  },
  {
   "cell_type": "code",
   "execution_count": 10,
   "id": "21a9867f",
   "metadata": {},
   "outputs": [
    {
     "data": {
      "text/latex": [
       "$\\displaystyle C_{2} = 0$"
      ],
      "text/plain": [
       "Eq(C2, 0)"
      ]
     },
     "metadata": {},
     "output_type": "display_data"
    }
   ],
   "source": [
    "bc3_lhs = sym.diff(wsoln_interim,x).subs([(x,0)])\n",
    "bc3_rhs = 0\n",
    "bc3_eq = sym.Eq(bc3_lhs, bc3_rhs)\n",
    "display(bc3_eq)"
   ]
  },
  {
   "cell_type": "code",
   "execution_count": 11,
   "id": "883e649e",
   "metadata": {},
   "outputs": [
    {
     "data": {
      "text/latex": [
       "$\\displaystyle \\frac{2 E I \\left(C_{3} + 3 C_{4} L\\right) + \\frac{L P}{2}}{E I} = 0$"
      ],
      "text/plain": [
       "Eq((2*E*I*(C3 + 3*C4*L) + L*P/2)/(E*I), 0)"
      ]
     },
     "metadata": {},
     "output_type": "display_data"
    }
   ],
   "source": [
    "bc4_lhs = sym.diff(wsoln_interim,(x,2)).subs([(x,L)])\n",
    "bc4_rhs = 0\n",
    "bc4_eq = sym.Eq(bc4_lhs, bc4_rhs)\n",
    "display(bc4_eq)"
   ]
  },
  {
   "cell_type": "code",
   "execution_count": 12,
   "id": "81d2e71d",
   "metadata": {},
   "outputs": [
    {
     "data": {
      "text/plain": [
       "{C1: 0, C3: L*P/(4*E*I), C4: -P/(6*E*I), C2: 0}"
      ]
     },
     "metadata": {},
     "output_type": "display_data"
    }
   ],
   "source": [
    "constants = sym.solve([bc1_lhs,bc2_lhs,bc3_lhs,bc4_lhs])\n",
    "display(constants)"
   ]
  },
  {
   "cell_type": "code",
   "execution_count": 13,
   "id": "0d57e6bf",
   "metadata": {},
   "outputs": [
    {
     "data": {
      "text/latex": [
       "$\\displaystyle \\begin{cases} \\frac{P x^{2} \\left(3 L - 2 x\\right)}{12 E I} & \\text{for}\\: L > 2 x \\\\\\frac{P \\left(- L^{3} + 6 L^{2} x + 12 L x^{2} - 8 x^{3}\\right)}{96 E I} & \\text{for}\\: L = 2 x \\\\\\frac{L^{2} P \\left(- L + 6 x\\right)}{48 E I} & \\text{for}\\: L < 2 x \\end{cases}$"
      ],
      "text/plain": [
       "Piecewise((P*x**2*(3*L - 2*x)/(12*E*I), L > 2*x), (P*(-L**3 + 6*L**2*x + 12*L*x**2 - 8*x**3)/(96*E*I), Eq(L, 2*x)), (L**2*P*(-L + 6*x)/(48*E*I), L < 2*x))"
      ]
     },
     "execution_count": 13,
     "metadata": {},
     "output_type": "execute_result"
    }
   ],
   "source": [
    "wsoln_interim.subs(constants).simplify()"
   ]
  },
  {
   "cell_type": "code",
   "execution_count": null,
   "id": "42e57f03",
   "metadata": {},
   "outputs": [],
   "source": []
  }
 ],
 "metadata": {
  "kernelspec": {
   "display_name": "Python 3 (ipykernel)",
   "language": "python",
   "name": "python3"
  },
  "language_info": {
   "codemirror_mode": {
    "name": "ipython",
    "version": 3
   },
   "file_extension": ".py",
   "mimetype": "text/x-python",
   "name": "python",
   "nbconvert_exporter": "python",
   "pygments_lexer": "ipython3",
   "version": "3.9.7"
  }
 },
 "nbformat": 4,
 "nbformat_minor": 5
}
